{
  "cells": [
    {
      "cell_type": "code",
      "execution_count": 1,
      "metadata": {
        "id": "DY1RgbeMyE0q"
      },
      "outputs": [
        {
          "name": "stderr",
          "output_type": "stream",
          "text": [
            "/home/fizh/miniconda3/envs/rtd/lib/python3.9/site-packages/tqdm/auto.py:22: TqdmWarning: IProgress not found. Please update jupyter and ipywidgets. See https://ipywidgets.readthedocs.io/en/stable/user_install.html\n",
            "  from .autonotebook import tqdm as notebook_tqdm\n"
          ]
        }
      ],
      "source": [
        "import pandas as pd\n",
        "from utils import tool, indexing\n",
        "import numpy as np"
      ]
    },
    {
      "cell_type": "code",
      "execution_count": 2,
      "metadata": {},
      "outputs": [],
      "source": [
        "%load_ext autoreload\n",
        "%autoreload 2"
      ]
    },
    {
      "cell_type": "markdown",
      "metadata": {},
      "source": [
        "## Load Dataset"
      ]
    },
    {
      "cell_type": "code",
      "execution_count": null,
      "metadata": {
        "id": "yrN2JFh9TD8Q"
      },
      "outputs": [],
      "source": [
        "file_path = \"static/data SOAP indo.xlsx\"\n",
        "rekmed_xl = pd.read_excel(file_path)"
      ]
    },
    {
      "cell_type": "code",
      "execution_count": null,
      "metadata": {
        "colab": {
          "base_uri": "https://localhost:8080/"
        },
        "collapsed": true,
        "id": "6FcMNfr57P8B",
        "outputId": "31d1648d-f9c4-4876-ec9d-cb7451d1870f"
      },
      "outputs": [],
      "source": [
        "rekmed_xl.isnull().sum()"
      ]
    },
    {
      "cell_type": "markdown",
      "metadata": {
        "id": "eSgN_vVnAL4m"
      },
      "source": [
        "## Preprocessing"
      ]
    },
    {
      "cell_type": "code",
      "execution_count": null,
      "metadata": {
        "id": "MM6226qtTxvs"
      },
      "outputs": [],
      "source": [
        "rekmed_xl = tool.drop_unnecessary_samples(rekmed_xl)\n",
        "rekmed_xl = tool.remove_html_tag(rekmed_xl)"
      ]
    },
    {
      "cell_type": "code",
      "execution_count": null,
      "metadata": {},
      "outputs": [],
      "source": [
        "rekmed_xl.isnull().sum()"
      ]
    },
    {
      "cell_type": "code",
      "execution_count": null,
      "metadata": {},
      "outputs": [],
      "source": [
        "# rekmed_xl.reset_index(drop=False)\n",
        "rekmed_xl"
      ]
    },
    {
      "cell_type": "code",
      "execution_count": 21,
      "metadata": {},
      "outputs": [],
      "source": [
        "# save preprocessing data\n",
        "# tool.save_py_obj(\"rekmed_post_preprocess.pkl\", rekmed_xl)\n",
        "# load previous clean data\n",
        "rekmed_xl_pkl = tool.load_py_obj(\"rekmed_post_preprocess.pkl\")"
      ]
    },
    {
      "cell_type": "markdown",
      "metadata": {},
      "source": [
        "## Generate Question & Answer"
      ]
    },
    {
      "cell_type": "code",
      "execution_count": 64,
      "metadata": {},
      "outputs": [
        {
          "name": "stdout",
          "output_type": "stream",
          "text": [
            "total samples = 118\n"
          ]
        },
        {
          "name": "stderr",
          "output_type": "stream",
          "text": [
            "100%|██████████| 118/118 [00:00<00:00, 55879.85it/s]"
          ]
        },
        {
          "name": "stdout",
          "output_type": "stream",
          "text": [
            "drop 18 samples\n",
            "total samples after dropping some meaningless tokens = 100\n"
          ]
        },
        {
          "name": "stderr",
          "output_type": "stream",
          "text": [
            "\n",
            "/home/fizh/projects/rtd.rekmed/utils/tool.py:136: SettingWithCopyWarning: \n",
            "A value is trying to be set on a copy of a slice from a DataFrame\n",
            "\n",
            "See the caveats in the documentation: https://pandas.pydata.org/pandas-docs/stable/user_guide/indexing.html#returning-a-view-versus-a-copy\n",
            "  df.drop(detect_index, inplace=True)\n"
          ]
        }
      ],
      "source": [
        "# sampling\n",
        "# 1000 samples\n",
        "# sample_rekmed = rekmed_xl_pkl[:1261]\n",
        "# 500 samples\n",
        "# sample_rekmed = rekmed_xl_pkl[:633]\n",
        "# 200 samples\n",
        "# sample_rekmed = rekmed_xl_pkl[:245]\n",
        "# 100 samples\n",
        "sample_rekmed = rekmed_xl_pkl[:118]\n",
        "print(f\"total samples = {len(sample_rekmed)}\")\n",
        "rekmed_l_tokens = indexing.tokenization(sample_rekmed.diagnosa)\n",
        "sample_rekmed, rekmed_l_tokens = tool.drop_meaningless_tokens(sample_rekmed, rekmed_l_tokens)\n",
        "print(f\"total samples after dropping some meaningless tokens = {len(sample_rekmed)}\")\n",
        "\n",
        "# all data\n",
        "# print(len(rekmed_xl_pkl))\n",
        "# rekmed_l_tokens = indexing.tokenization(rekmed_xl_pkl.diagnosa)\n",
        "# sample_rekmed, rekmed_l_tokens = tool.drop_meaningless_tokens(rekmed_xl_pkl, rekmed_l_tokens)\n",
        "# print(f\"total samples after dropping some meaningless tokens = {len(sample_rekmed)}\")"
      ]
    },
    {
      "cell_type": "code",
      "execution_count": 65,
      "metadata": {},
      "outputs": [
        {
          "name": "stderr",
          "output_type": "stream",
          "text": [
            "100%|██████████| 100/100 [00:00<00:00, 1711.03it/s]\n"
          ]
        }
      ],
      "source": [
        "# # for all data\n",
        "# QA = tool.qa_generator(rekmed_xl_pkl)\n",
        "# samples data\n",
        "QA = tool.qa_generator(sample_rekmed)\n",
        "QA_test = tool.qa_generator_test(sample_rekmed)"
      ]
    },
    {
      "cell_type": "code",
      "execution_count": 69,
      "metadata": {},
      "outputs": [],
      "source": [
        "# tool.save_py_obj(\"QA_qa_generator.pkl\", QA)\n",
        "QA = tool.load_py_obj(\"QA_qa_generator.pkl\")\n",
        "# tool.save_py_obj(\"QA_qa_generator_test.pkl\", QA_test)\n",
        "QA_test = tool.load_py_obj(\"QA_qa_generator_test.pkl\")"
      ]
    },
    {
      "cell_type": "code",
      "execution_count": 70,
      "metadata": {},
      "outputs": [
        {
          "name": "stderr",
          "output_type": "stream",
          "text": [
            "100%|██████████| 645/645 [00:00<00:00, 50483.80it/s]\n"
          ]
        },
        {
          "name": "stdout",
          "output_type": "stream",
          "text": [
            "drop 0 samples\n",
            "drop 0 samples\n"
          ]
        },
        {
          "name": "stderr",
          "output_type": "stream",
          "text": [
            "100%|██████████| 645/645 [00:00<00:00, 1440535.72it/s]\n",
            "100%|██████████| 129/129 [00:00<00:00, 63895.28it/s]\n"
          ]
        },
        {
          "name": "stdout",
          "output_type": "stream",
          "text": [
            "drop 0 samples\n",
            "drop 0 samples\n"
          ]
        },
        {
          "name": "stderr",
          "output_type": "stream",
          "text": [
            "100%|██████████| 129/129 [00:00<00:00, 582416.81it/s]\n"
          ]
        }
      ],
      "source": [
        "QA = tool.grouping_qa(QA)\n",
        "QA_test = tool.grouping_qa(QA_test)"
      ]
    },
    {
      "cell_type": "code",
      "execution_count": 3,
      "metadata": {},
      "outputs": [],
      "source": [
        "# tool.save_py_obj(\"QA_grouping_qa.pkl\", QA)\n",
        "QA = tool.load_py_obj(\"QA_grouping_qa.pkl\")\n",
        "# tool.save_py_obj(\"QA_grouping_qa_test.pkl\", QA_test)\n",
        "QA_test = tool.load_py_obj(\"QA_grouping_qa_test.pkl\")"
      ]
    },
    {
      "cell_type": "code",
      "execution_count": 73,
      "metadata": {},
      "outputs": [
        {
          "name": "stderr",
          "output_type": "stream",
          "text": [
            "100%|██████████| 645/645 [00:19<00:00, 32.38it/s]\n"
          ]
        }
      ],
      "source": [
        "label_entailment = tool.gather_entailment(QA) # 0.8"
      ]
    },
    {
      "cell_type": "code",
      "execution_count": 74,
      "metadata": {},
      "outputs": [
        {
          "name": "stderr",
          "output_type": "stream",
          "text": [
            "100%|██████████| 645/645 [00:19<00:00, 33.01it/s]\n"
          ]
        }
      ],
      "source": [
        "label_neutral = tool.gather_neutral(QA) # 0.4"
      ]
    },
    {
      "cell_type": "code",
      "execution_count": 75,
      "metadata": {},
      "outputs": [
        {
          "name": "stderr",
          "output_type": "stream",
          "text": [
            "100%|██████████| 645/645 [00:34<00:00, 18.79it/s]\n"
          ]
        }
      ],
      "source": [
        "label_contradiction = tool.gather_contradiction(QA) # 0"
      ]
    },
    {
      "cell_type": "code",
      "execution_count": 25,
      "metadata": {},
      "outputs": [],
      "source": [
        "# tool.save_py_obj(\"label_entailment.pkl\", label_entailment)\n",
        "# tool.save_py_obj(\"label_neutral.pkl\", label_neutral)\n",
        "# tool.save_py_obj(\"label_contradiction.pkl\", label_contradiction)\n",
        "\n",
        "label_entailment = tool.load_py_obj(\"label_entailment.pkl\")\n",
        "label_neutral = tool.load_py_obj(\"label_neutral.pkl\")\n",
        "label_contradiction = tool.load_py_obj(\"label_contradiction.pkl\")"
      ]
    },
    {
      "cell_type": "code",
      "execution_count": 26,
      "metadata": {},
      "outputs": [
        {
          "name": "stdout",
          "output_type": "stream",
          "text": [
            "Total samples of QA training : 645\n",
            "Total samples of QA testing : 129\n",
            "entailment : 555\n",
            "neutral : 1666\n",
            "contradiction : 3200\n"
          ]
        }
      ],
      "source": [
        "print(f\"Total samples of QA training : {len(QA)}\")\n",
        "print(f\"Total samples of QA testing : {len(QA_test)}\")\n",
        "print(f\"entailment : {len(label_entailment)}\")\n",
        "print(f\"neutral : {len(label_neutral)}\")\n",
        "print(f\"contradiction : {len(label_contradiction)}\")"
      ]
    },
    {
      "cell_type": "code",
      "execution_count": 80,
      "metadata": {},
      "outputs": [],
      "source": [
        "train_examples = tool.concatenate_train_examples(\n",
        "    label_entailment, label_neutral, label_contradiction\n",
        ")"
      ]
    },
    {
      "cell_type": "code",
      "execution_count": 28,
      "metadata": {},
      "outputs": [],
      "source": [
        "# tool.save_py_obj(\"train_examples.pkl\", train_examples)\n",
        "train_examples = tool.load_py_obj(\"train_examples.pkl\")"
      ]
    },
    {
      "cell_type": "markdown",
      "metadata": {},
      "source": [
        "## Training"
      ]
    },
    {
      "cell_type": "code",
      "execution_count": 83,
      "metadata": {},
      "outputs": [
        {
          "name": "stdout",
          "output_type": "stream",
          "text": [
            "2022-11-30 00:24:04 - Load pretrained SentenceTransformer: microsoft/mpnet-base\n",
            "2022-11-30 00:24:11 - No sentence-transformers model found with name /home/fizh/.cache/torch/sentence_transformers/microsoft_mpnet-base. Creating a new one with MEAN pooling.\n"
          ]
        },
        {
          "name": "stderr",
          "output_type": "stream",
          "text": [
            "Some weights of the model checkpoint at /home/fizh/.cache/torch/sentence_transformers/microsoft_mpnet-base were not used when initializing MPNetModel: ['lm_head.dense.weight', 'lm_head.layer_norm.weight', 'lm_head.dense.bias', 'lm_head.layer_norm.bias', 'lm_head.bias', 'lm_head.decoder.bias', 'lm_head.decoder.weight']\n",
            "- This IS expected if you are initializing MPNetModel from the checkpoint of a model trained on another task or with another architecture (e.g. initializing a BertForSequenceClassification model from a BertForPreTraining model).\n",
            "- This IS NOT expected if you are initializing MPNetModel from the checkpoint of a model that you expect to be exactly identical (initializing a BertForSequenceClassification model from a BertForSequenceClassification model).\n",
            "Some weights of MPNetModel were not initialized from the model checkpoint at /home/fizh/.cache/torch/sentence_transformers/microsoft_mpnet-base and are newly initialized: ['mpnet.pooler.dense.weight', 'mpnet.pooler.dense.bias']\n",
            "You should probably TRAIN this model on a down-stream task to be able to use it for predictions and inference.\n"
          ]
        },
        {
          "name": "stdout",
          "output_type": "stream",
          "text": [
            "2022-11-30 00:24:13 - Use pytorch device: cuda\n"
          ]
        }
      ],
      "source": [
        "model_name = \"microsoft/mpnet-base\"\n",
        "sts_model = tool.STSModel(model_name, local=False)"
      ]
    },
    {
      "cell_type": "code",
      "execution_count": 84,
      "metadata": {},
      "outputs": [],
      "source": [
        "# prepare training & validation samples\n",
        "sts_model.get_train_test_dataset(train_examples)"
      ]
    },
    {
      "cell_type": "code",
      "execution_count": 85,
      "metadata": {},
      "outputs": [
        {
          "name": "stdout",
          "output_type": "stream",
          "text": [
            "2022-11-30 00:24:57 - Read Train Dataset\n",
            "2022-11-30 00:24:57 - Read Validation Dataset\n",
            "2022-11-30 00:24:57 - Warmup-steps: 58\n"
          ]
        },
        {
          "name": "stderr",
          "output_type": "stream",
          "text": [
            "                                            \n",
            "Epoch:   0%|          | 0/4 [00:10<?, ?it/s]               "
          ]
        },
        {
          "name": "stdout",
          "output_type": "stream",
          "text": [
            "2022-11-30 00:25:08 - EmbeddingSimilarityEvaluator: Evaluating the model on sts-dev dataset in epoch 0 after 14 steps:\n"
          ]
        },
        {
          "name": "stderr",
          "output_type": "stream",
          "text": [
            "                                            \n",
            "                                                           \n",
            "                                                           \n",
            "                                                           \n",
            "                                                           \n",
            "Epoch:   0%|          | 0/4 [00:12<?, ?it/s]               "
          ]
        },
        {
          "name": "stdout",
          "output_type": "stream",
          "text": [
            "2022-11-30 00:25:09 - Cosine-Similarity :\tPearson: -0.0049\tSpearman: 0.0349\n",
            "2022-11-30 00:25:09 - Manhattan-Distance:\tPearson: 0.0533\tSpearman: 0.0562\n",
            "2022-11-30 00:25:09 - Euclidean-Distance:\tPearson: -0.0083\tSpearman: -0.0045\n",
            "2022-11-30 00:25:09 - Dot-Product-Similarity:\tPearson: 0.1239\tSpearman: 0.1413\n",
            "2022-11-30 00:25:09 - Save model to static/output/models/microsoft/mpnet-base-2022-11-30_00-24-04-mean-sts\n"
          ]
        },
        {
          "name": "stderr",
          "output_type": "stream",
          "text": [
            "                                            \n",
            "Epoch:   0%|          | 0/4 [00:30<?, ?it/s]               "
          ]
        },
        {
          "name": "stdout",
          "output_type": "stream",
          "text": [
            "2022-11-30 00:25:27 - EmbeddingSimilarityEvaluator: Evaluating the model on sts-dev dataset in epoch 0 after 28 steps:\n"
          ]
        },
        {
          "name": "stderr",
          "output_type": "stream",
          "text": [
            "                                            \n",
            "                                                           \n",
            "                                                           \n",
            "                                                           \n",
            "                                                           \n",
            "Epoch:   0%|          | 0/4 [00:31<?, ?it/s]               "
          ]
        },
        {
          "name": "stdout",
          "output_type": "stream",
          "text": [
            "2022-11-30 00:25:29 - Cosine-Similarity :\tPearson: 0.2037\tSpearman: 0.1845\n",
            "2022-11-30 00:25:29 - Manhattan-Distance:\tPearson: 0.1604\tSpearman: 0.1586\n",
            "2022-11-30 00:25:29 - Euclidean-Distance:\tPearson: 0.1790\tSpearman: 0.1650\n",
            "2022-11-30 00:25:29 - Dot-Product-Similarity:\tPearson: 0.2234\tSpearman: 0.2166\n",
            "2022-11-30 00:25:29 - Save model to static/output/models/microsoft/mpnet-base-2022-11-30_00-24-04-mean-sts\n"
          ]
        },
        {
          "name": "stderr",
          "output_type": "stream",
          "text": [
            "                                            \n",
            "Epoch:   0%|          | 0/4 [00:46<?, ?it/s]               "
          ]
        },
        {
          "name": "stdout",
          "output_type": "stream",
          "text": [
            "2022-11-30 00:25:44 - EmbeddingSimilarityEvaluator: Evaluating the model on sts-dev dataset in epoch 0 after 42 steps:\n"
          ]
        },
        {
          "name": "stderr",
          "output_type": "stream",
          "text": [
            "                                            \n",
            "                                                           \n",
            "                                                           \n",
            "                                                           \n",
            "                                                           \n",
            "Epoch:   0%|          | 0/4 [00:50<?, ?it/s]               "
          ]
        },
        {
          "name": "stdout",
          "output_type": "stream",
          "text": [
            "2022-11-30 00:25:48 - Cosine-Similarity :\tPearson: 0.6751\tSpearman: 0.6902\n",
            "2022-11-30 00:25:48 - Manhattan-Distance:\tPearson: 0.4235\tSpearman: 0.5437\n",
            "2022-11-30 00:25:48 - Euclidean-Distance:\tPearson: 0.5175\tSpearman: 0.6283\n",
            "2022-11-30 00:25:48 - Dot-Product-Similarity:\tPearson: 0.6459\tSpearman: 0.7147\n",
            "2022-11-30 00:25:48 - Save model to static/output/models/microsoft/mpnet-base-2022-11-30_00-24-04-mean-sts\n"
          ]
        },
        {
          "name": "stderr",
          "output_type": "stream",
          "text": [
            "                                            \n",
            "Epoch:   0%|          | 0/4 [01:01<?, ?it/s]               "
          ]
        },
        {
          "name": "stdout",
          "output_type": "stream",
          "text": [
            "2022-11-30 00:25:59 - EmbeddingSimilarityEvaluator: Evaluating the model on sts-dev dataset in epoch 0 after 56 steps:\n"
          ]
        },
        {
          "name": "stderr",
          "output_type": "stream",
          "text": [
            "                                            \n",
            "                                                           \n",
            "                                                           \n",
            "                                                           \n",
            "                                                           \n",
            "Epoch:   0%|          | 0/4 [01:06<?, ?it/s]               "
          ]
        },
        {
          "name": "stdout",
          "output_type": "stream",
          "text": [
            "2022-11-30 00:26:03 - Cosine-Similarity :\tPearson: 0.8218\tSpearman: 0.8036\n",
            "2022-11-30 00:26:04 - Manhattan-Distance:\tPearson: 0.6525\tSpearman: 0.7617\n",
            "2022-11-30 00:26:04 - Euclidean-Distance:\tPearson: 0.7448\tSpearman: 0.7979\n",
            "2022-11-30 00:26:04 - Dot-Product-Similarity:\tPearson: 0.8026\tSpearman: 0.7881\n",
            "2022-11-30 00:26:04 - Save model to static/output/models/microsoft/mpnet-base-2022-11-30_00-24-04-mean-sts\n"
          ]
        },
        {
          "name": "stderr",
          "output_type": "stream",
          "text": [
            "                                            \n",
            "Epoch:   0%|          | 0/4 [01:19<?, ?it/s]               "
          ]
        },
        {
          "name": "stdout",
          "output_type": "stream",
          "text": [
            "2022-11-30 00:26:17 - EmbeddingSimilarityEvaluator: Evaluating the model on sts-dev dataset in epoch 0 after 70 steps:\n"
          ]
        },
        {
          "name": "stderr",
          "output_type": "stream",
          "text": [
            "                                            \n",
            "                                                           \n",
            "                                                           \n",
            "                                                           \n",
            "                                                           \n",
            "Epoch:   0%|          | 0/4 [01:21<?, ?it/s]               "
          ]
        },
        {
          "name": "stdout",
          "output_type": "stream",
          "text": [
            "2022-11-30 00:26:18 - Cosine-Similarity :\tPearson: 0.8700\tSpearman: 0.8397\n",
            "2022-11-30 00:26:18 - Manhattan-Distance:\tPearson: 0.7705\tSpearman: 0.8358\n",
            "2022-11-30 00:26:18 - Euclidean-Distance:\tPearson: 0.8133\tSpearman: 0.8315\n",
            "2022-11-30 00:26:18 - Dot-Product-Similarity:\tPearson: 0.8690\tSpearman: 0.8463\n",
            "2022-11-30 00:26:18 - Save model to static/output/models/microsoft/mpnet-base-2022-11-30_00-24-04-mean-sts\n"
          ]
        },
        {
          "name": "stderr",
          "output_type": "stream",
          "text": [
            "                                            \n",
            "Epoch:   0%|          | 0/4 [01:37<?, ?it/s]               "
          ]
        },
        {
          "name": "stdout",
          "output_type": "stream",
          "text": [
            "2022-11-30 00:26:35 - EmbeddingSimilarityEvaluator: Evaluating the model on sts-dev dataset in epoch 0 after 84 steps:\n"
          ]
        },
        {
          "name": "stderr",
          "output_type": "stream",
          "text": [
            "                                            \n",
            "                                                           \n",
            "                                                           \n",
            "                                                           \n",
            "Epoch:   0%|          | 0/4 [01:39<?, ?it/s]               "
          ]
        },
        {
          "name": "stdout",
          "output_type": "stream",
          "text": [
            "2022-11-30 00:26:37 - Cosine-Similarity :\tPearson: 0.8626\tSpearman: 0.8358\n",
            "2022-11-30 00:26:37 - Manhattan-Distance:\tPearson: 0.7870\tSpearman: 0.8323\n",
            "2022-11-30 00:26:37 - Euclidean-Distance:\tPearson: 0.8060\tSpearman: 0.8340\n",
            "2022-11-30 00:26:37 - Dot-Product-Similarity:\tPearson: 0.8587\tSpearman: 0.8365\n"
          ]
        },
        {
          "name": "stderr",
          "output_type": "stream",
          "text": [
            "                                            \n",
            "Epoch:   0%|          | 0/4 [01:50<?, ?it/s]               "
          ]
        },
        {
          "name": "stdout",
          "output_type": "stream",
          "text": [
            "2022-11-30 00:26:47 - EmbeddingSimilarityEvaluator: Evaluating the model on sts-dev dataset in epoch 0 after 98 steps:\n"
          ]
        },
        {
          "name": "stderr",
          "output_type": "stream",
          "text": [
            "                                            \n",
            "                                                           \n",
            "                                                           \n",
            "                                                           \n",
            "                                                           \n",
            "Epoch:   0%|          | 0/4 [01:51<?, ?it/s]               "
          ]
        },
        {
          "name": "stdout",
          "output_type": "stream",
          "text": [
            "2022-11-30 00:26:49 - Cosine-Similarity :\tPearson: 0.8609\tSpearman: 0.8508\n",
            "2022-11-30 00:26:49 - Manhattan-Distance:\tPearson: 0.7941\tSpearman: 0.8509\n",
            "2022-11-30 00:26:49 - Euclidean-Distance:\tPearson: 0.8030\tSpearman: 0.8495\n",
            "2022-11-30 00:26:49 - Dot-Product-Similarity:\tPearson: 0.8528\tSpearman: 0.8485\n",
            "2022-11-30 00:26:49 - Save model to static/output/models/microsoft/mpnet-base-2022-11-30_00-24-04-mean-sts\n"
          ]
        },
        {
          "name": "stderr",
          "output_type": "stream",
          "text": [
            "                                            \n",
            "Epoch:   0%|          | 0/4 [02:08<?, ?it/s]                "
          ]
        },
        {
          "name": "stdout",
          "output_type": "stream",
          "text": [
            "2022-11-30 00:27:05 - EmbeddingSimilarityEvaluator: Evaluating the model on sts-dev dataset in epoch 0 after 112 steps:\n"
          ]
        },
        {
          "name": "stderr",
          "output_type": "stream",
          "text": [
            "                                            \n",
            "                                                            \n",
            "                                                            \n",
            "                                                            \n",
            "                                                            \n",
            "Epoch:   0%|          | 0/4 [02:09<?, ?it/s]                "
          ]
        },
        {
          "name": "stdout",
          "output_type": "stream",
          "text": [
            "2022-11-30 00:27:06 - Cosine-Similarity :\tPearson: 0.8917\tSpearman: 0.8715\n",
            "2022-11-30 00:27:06 - Manhattan-Distance:\tPearson: 0.8414\tSpearman: 0.8702\n",
            "2022-11-30 00:27:06 - Euclidean-Distance:\tPearson: 0.8448\tSpearman: 0.8696\n",
            "2022-11-30 00:27:06 - Dot-Product-Similarity:\tPearson: 0.8869\tSpearman: 0.8708\n",
            "2022-11-30 00:27:06 - Save model to static/output/models/microsoft/mpnet-base-2022-11-30_00-24-04-mean-sts\n"
          ]
        },
        {
          "name": "stderr",
          "output_type": "stream",
          "text": [
            "                                            \n",
            "Epoch:   0%|          | 0/4 [02:20<?, ?it/s]                "
          ]
        },
        {
          "name": "stdout",
          "output_type": "stream",
          "text": [
            "2022-11-30 00:27:18 - EmbeddingSimilarityEvaluator: Evaluating the model on sts-dev dataset in epoch 0 after 126 steps:\n"
          ]
        },
        {
          "name": "stderr",
          "output_type": "stream",
          "text": [
            "                                            \n",
            "                                                            \n",
            "                                                            \n",
            "                                                            \n",
            "                                                            \n",
            "Epoch:   0%|          | 0/4 [02:26<?, ?it/s]                "
          ]
        },
        {
          "name": "stdout",
          "output_type": "stream",
          "text": [
            "2022-11-30 00:27:23 - Cosine-Similarity :\tPearson: 0.9039\tSpearman: 0.8857\n",
            "2022-11-30 00:27:24 - Manhattan-Distance:\tPearson: 0.8567\tSpearman: 0.8835\n",
            "2022-11-30 00:27:24 - Euclidean-Distance:\tPearson: 0.8576\tSpearman: 0.8837\n",
            "2022-11-30 00:27:24 - Dot-Product-Similarity:\tPearson: 0.9018\tSpearman: 0.8890\n",
            "2022-11-30 00:27:24 - Save model to static/output/models/microsoft/mpnet-base-2022-11-30_00-24-04-mean-sts\n"
          ]
        },
        {
          "name": "stderr",
          "output_type": "stream",
          "text": [
            "                                            \n",
            "Epoch:   0%|          | 0/4 [02:38<?, ?it/s]                "
          ]
        },
        {
          "name": "stdout",
          "output_type": "stream",
          "text": [
            "2022-11-30 00:27:36 - EmbeddingSimilarityEvaluator: Evaluating the model on sts-dev dataset in epoch 0 after 140 steps:\n"
          ]
        },
        {
          "name": "stderr",
          "output_type": "stream",
          "text": [
            "                                            \n",
            "                                                            \n",
            "                                                            \n",
            "                                                            \n",
            "                                                            \n",
            "Epoch:   0%|          | 0/4 [02:39<?, ?it/s]                "
          ]
        },
        {
          "name": "stdout",
          "output_type": "stream",
          "text": [
            "2022-11-30 00:27:37 - Cosine-Similarity :\tPearson: 0.9022\tSpearman: 0.8943\n",
            "2022-11-30 00:27:37 - Manhattan-Distance:\tPearson: 0.8624\tSpearman: 0.8941\n",
            "2022-11-30 00:27:37 - Euclidean-Distance:\tPearson: 0.8651\tSpearman: 0.8944\n",
            "2022-11-30 00:27:37 - Dot-Product-Similarity:\tPearson: 0.8998\tSpearman: 0.8956\n",
            "2022-11-30 00:27:37 - Save model to static/output/models/microsoft/mpnet-base-2022-11-30_00-24-04-mean-sts\n"
          ]
        },
        {
          "name": "stderr",
          "output_type": "stream",
          "text": [
            "Iteration: 100%|██████████| 144/144 [02:43<00:00,  1.13s/it]\n",
            "Epoch:   0%|          | 0/4 [02:43<?, ?it/s]"
          ]
        },
        {
          "name": "stdout",
          "output_type": "stream",
          "text": [
            "2022-11-30 00:27:40 - EmbeddingSimilarityEvaluator: Evaluating the model on sts-dev dataset after epoch 0:\n"
          ]
        },
        {
          "name": "stderr",
          "output_type": "stream",
          "text": [
            "Epoch:   0%|          | 0/4 [02:48<?, ?it/s]"
          ]
        },
        {
          "name": "stdout",
          "output_type": "stream",
          "text": [
            "2022-11-30 00:27:46 - Cosine-Similarity :\tPearson: 0.9111\tSpearman: 0.8979\n",
            "2022-11-30 00:27:46 - Manhattan-Distance:\tPearson: 0.8708\tSpearman: 0.8968\n",
            "2022-11-30 00:27:46 - Euclidean-Distance:\tPearson: 0.8727\tSpearman: 0.8973\n",
            "2022-11-30 00:27:46 - Dot-Product-Similarity:\tPearson: 0.9103\tSpearman: 0.8997\n",
            "2022-11-30 00:27:46 - Save model to static/output/models/microsoft/mpnet-base-2022-11-30_00-24-04-mean-sts\n"
          ]
        },
        {
          "name": "stderr",
          "output_type": "stream",
          "text": [
            "                                                     \n",
            "Epoch:  25%|██▌       | 1/4 [03:00<08:29, 169.94s/it]      "
          ]
        },
        {
          "name": "stdout",
          "output_type": "stream",
          "text": [
            "2022-11-30 00:27:58 - EmbeddingSimilarityEvaluator: Evaluating the model on sts-dev dataset in epoch 1 after 14 steps:\n"
          ]
        },
        {
          "name": "stderr",
          "output_type": "stream",
          "text": [
            "                                                     \n",
            "                                                           \n",
            "                                                           \n",
            "                                                           \n",
            "Epoch:  25%|██▌       | 1/4 [03:07<08:29, 169.94s/it]      "
          ]
        },
        {
          "name": "stdout",
          "output_type": "stream",
          "text": [
            "2022-11-30 00:28:05 - Cosine-Similarity :\tPearson: 0.8936\tSpearman: 0.8963\n",
            "2022-11-30 00:28:05 - Manhattan-Distance:\tPearson: 0.8568\tSpearman: 0.8959\n",
            "2022-11-30 00:28:05 - Euclidean-Distance:\tPearson: 0.8552\tSpearman: 0.8967\n",
            "2022-11-30 00:28:05 - Dot-Product-Similarity:\tPearson: 0.8871\tSpearman: 0.8976\n"
          ]
        },
        {
          "name": "stderr",
          "output_type": "stream",
          "text": [
            "                                                     \n",
            "Epoch:  25%|██▌       | 1/4 [03:18<08:29, 169.94s/it]      "
          ]
        },
        {
          "name": "stdout",
          "output_type": "stream",
          "text": [
            "2022-11-30 00:28:15 - EmbeddingSimilarityEvaluator: Evaluating the model on sts-dev dataset in epoch 1 after 28 steps:\n"
          ]
        },
        {
          "name": "stderr",
          "output_type": "stream",
          "text": [
            "                                                     \n",
            "                                                           \n",
            "                                                           \n",
            "                                                           \n",
            "                                                           \n",
            "Epoch:  25%|██▌       | 1/4 [03:19<08:29, 169.94s/it]      "
          ]
        },
        {
          "name": "stdout",
          "output_type": "stream",
          "text": [
            "2022-11-30 00:28:17 - Cosine-Similarity :\tPearson: 0.9086\tSpearman: 0.8986\n",
            "2022-11-30 00:28:17 - Manhattan-Distance:\tPearson: 0.8701\tSpearman: 0.8978\n",
            "2022-11-30 00:28:17 - Euclidean-Distance:\tPearson: 0.8718\tSpearman: 0.8984\n",
            "2022-11-30 00:28:17 - Dot-Product-Similarity:\tPearson: 0.9074\tSpearman: 0.9002\n",
            "2022-11-30 00:28:17 - Save model to static/output/models/microsoft/mpnet-base-2022-11-30_00-24-04-mean-sts\n"
          ]
        },
        {
          "name": "stderr",
          "output_type": "stream",
          "text": [
            "                                                     \n",
            "Epoch:  25%|██▌       | 1/4 [03:33<08:29, 169.94s/it]      "
          ]
        },
        {
          "name": "stdout",
          "output_type": "stream",
          "text": [
            "2022-11-30 00:28:31 - EmbeddingSimilarityEvaluator: Evaluating the model on sts-dev dataset in epoch 1 after 42 steps:\n"
          ]
        },
        {
          "name": "stderr",
          "output_type": "stream",
          "text": [
            "                                                     \n",
            "                                                           \n",
            "                                                           \n",
            "                                                           \n",
            "                                                           \n",
            "Epoch:  25%|██▌       | 1/4 [03:38<08:29, 169.94s/it]      "
          ]
        },
        {
          "name": "stdout",
          "output_type": "stream",
          "text": [
            "2022-11-30 00:28:35 - Cosine-Similarity :\tPearson: 0.9371\tSpearman: 0.9069\n",
            "2022-11-30 00:28:35 - Manhattan-Distance:\tPearson: 0.9050\tSpearman: 0.9069\n",
            "2022-11-30 00:28:35 - Euclidean-Distance:\tPearson: 0.9043\tSpearman: 0.9070\n",
            "2022-11-30 00:28:35 - Dot-Product-Similarity:\tPearson: 0.9380\tSpearman: 0.9097\n",
            "2022-11-30 00:28:35 - Save model to static/output/models/microsoft/mpnet-base-2022-11-30_00-24-04-mean-sts\n"
          ]
        },
        {
          "name": "stderr",
          "output_type": "stream",
          "text": [
            "                                                     \n",
            "Epoch:  25%|██▌       | 1/4 [03:49<08:29, 169.94s/it]      "
          ]
        },
        {
          "name": "stdout",
          "output_type": "stream",
          "text": [
            "2022-11-30 00:28:47 - EmbeddingSimilarityEvaluator: Evaluating the model on sts-dev dataset in epoch 1 after 56 steps:\n"
          ]
        },
        {
          "name": "stderr",
          "output_type": "stream",
          "text": [
            "                                                     \n",
            "                                                           \n",
            "                                                           \n",
            "Epoch:  25%|██▌       | 1/4 [03:54<08:29, 169.94s/it]      "
          ]
        },
        {
          "name": "stdout",
          "output_type": "stream",
          "text": [
            "2022-11-30 00:28:51 - Cosine-Similarity :\tPearson: 0.9330\tSpearman: 0.9069\n",
            "2022-11-30 00:28:51 - Manhattan-Distance:\tPearson: 0.8983\tSpearman: 0.9059\n",
            "2022-11-30 00:28:51 - Euclidean-Distance:\tPearson: 0.8974\tSpearman: 0.9067\n",
            "2022-11-30 00:28:51 - Dot-Product-Similarity:\tPearson: 0.9340\tSpearman: 0.9108\n"
          ]
        },
        {
          "name": "stderr",
          "output_type": "stream",
          "text": [
            "                                                     \n",
            "Epoch:  25%|██▌       | 1/4 [03:54<08:29, 169.94s/it]      "
          ]
        },
        {
          "name": "stdout",
          "output_type": "stream",
          "text": [
            "2022-11-30 00:28:51 - Save model to static/output/models/microsoft/mpnet-base-2022-11-30_00-24-04-mean-sts\n"
          ]
        },
        {
          "name": "stderr",
          "output_type": "stream",
          "text": [
            "                                                     \n",
            "Epoch:  25%|██▌       | 1/4 [04:07<08:29, 169.94s/it]      "
          ]
        },
        {
          "name": "stdout",
          "output_type": "stream",
          "text": [
            "2022-11-30 00:29:05 - EmbeddingSimilarityEvaluator: Evaluating the model on sts-dev dataset in epoch 1 after 70 steps:\n"
          ]
        },
        {
          "name": "stderr",
          "output_type": "stream",
          "text": [
            "                                                     \n",
            "                                                           \n",
            "                                                           \n",
            "                                                           \n",
            "                                                           \n",
            "Epoch:  25%|██▌       | 1/4 [04:08<08:29, 169.94s/it]      "
          ]
        },
        {
          "name": "stdout",
          "output_type": "stream",
          "text": [
            "2022-11-30 00:29:06 - Cosine-Similarity :\tPearson: 0.9295\tSpearman: 0.9140\n",
            "2022-11-30 00:29:06 - Manhattan-Distance:\tPearson: 0.8987\tSpearman: 0.9123\n",
            "2022-11-30 00:29:06 - Euclidean-Distance:\tPearson: 0.8951\tSpearman: 0.9130\n",
            "2022-11-30 00:29:06 - Dot-Product-Similarity:\tPearson: 0.9266\tSpearman: 0.9174\n",
            "2022-11-30 00:29:06 - Save model to static/output/models/microsoft/mpnet-base-2022-11-30_00-24-04-mean-sts\n"
          ]
        },
        {
          "name": "stderr",
          "output_type": "stream",
          "text": [
            "                                                     \n",
            "Epoch:  25%|██▌       | 1/4 [04:24<08:29, 169.94s/it]      "
          ]
        },
        {
          "name": "stdout",
          "output_type": "stream",
          "text": [
            "2022-11-30 00:29:22 - EmbeddingSimilarityEvaluator: Evaluating the model on sts-dev dataset in epoch 1 after 84 steps:\n"
          ]
        },
        {
          "name": "stderr",
          "output_type": "stream",
          "text": [
            "                                                     \n",
            "                                                           \n",
            "                                                           \n",
            "                                                           \n",
            "Epoch:  25%|██▌       | 1/4 [04:27<08:29, 169.94s/it]      "
          ]
        },
        {
          "name": "stdout",
          "output_type": "stream",
          "text": [
            "2022-11-30 00:29:25 - Cosine-Similarity :\tPearson: 0.9290\tSpearman: 0.9141\n",
            "2022-11-30 00:29:25 - Manhattan-Distance:\tPearson: 0.9032\tSpearman: 0.9129\n",
            "2022-11-30 00:29:25 - Euclidean-Distance:\tPearson: 0.9006\tSpearman: 0.9134\n",
            "2022-11-30 00:29:25 - Dot-Product-Similarity:\tPearson: 0.9270\tSpearman: 0.9151\n"
          ]
        },
        {
          "name": "stderr",
          "output_type": "stream",
          "text": [
            "                                                     \n",
            "Epoch:  25%|██▌       | 1/4 [04:37<08:29, 169.94s/it]      "
          ]
        },
        {
          "name": "stdout",
          "output_type": "stream",
          "text": [
            "2022-11-30 00:29:35 - EmbeddingSimilarityEvaluator: Evaluating the model on sts-dev dataset in epoch 1 after 98 steps:\n"
          ]
        },
        {
          "name": "stderr",
          "output_type": "stream",
          "text": [
            "                                                     \n",
            "                                                           \n",
            "                                                           \n",
            "                                                           \n",
            "                                                           \n",
            "Epoch:  25%|██▌       | 1/4 [04:38<08:29, 169.94s/it]      "
          ]
        },
        {
          "name": "stdout",
          "output_type": "stream",
          "text": [
            "2022-11-30 00:29:36 - Cosine-Similarity :\tPearson: 0.9467\tSpearman: 0.9154\n",
            "2022-11-30 00:29:36 - Manhattan-Distance:\tPearson: 0.9159\tSpearman: 0.9136\n",
            "2022-11-30 00:29:36 - Euclidean-Distance:\tPearson: 0.9149\tSpearman: 0.9144\n",
            "2022-11-30 00:29:36 - Dot-Product-Similarity:\tPearson: 0.9454\tSpearman: 0.9175\n",
            "2022-11-30 00:29:36 - Save model to static/output/models/microsoft/mpnet-base-2022-11-30_00-24-04-mean-sts\n"
          ]
        },
        {
          "name": "stderr",
          "output_type": "stream",
          "text": [
            "                                                     \n",
            "Epoch:  25%|██▌       | 1/4 [04:55<08:29, 169.94s/it]       "
          ]
        },
        {
          "name": "stdout",
          "output_type": "stream",
          "text": [
            "2022-11-30 00:29:53 - EmbeddingSimilarityEvaluator: Evaluating the model on sts-dev dataset in epoch 1 after 112 steps:\n"
          ]
        },
        {
          "name": "stderr",
          "output_type": "stream",
          "text": [
            "                                                     \n",
            "                                                            \n",
            "                                                            \n",
            "                                                            \n",
            "Epoch:  25%|██▌       | 1/4 [04:56<08:29, 169.94s/it]       "
          ]
        },
        {
          "name": "stdout",
          "output_type": "stream",
          "text": [
            "2022-11-30 00:29:54 - Cosine-Similarity :\tPearson: 0.9378\tSpearman: 0.9129\n",
            "2022-11-30 00:29:54 - Manhattan-Distance:\tPearson: 0.9061\tSpearman: 0.9117\n",
            "2022-11-30 00:29:54 - Euclidean-Distance:\tPearson: 0.9037\tSpearman: 0.9125\n",
            "2022-11-30 00:29:54 - Dot-Product-Similarity:\tPearson: 0.9317\tSpearman: 0.9141\n"
          ]
        },
        {
          "name": "stderr",
          "output_type": "stream",
          "text": [
            "                                                     \n",
            "Epoch:  25%|██▌       | 1/4 [05:07<08:29, 169.94s/it]       "
          ]
        },
        {
          "name": "stdout",
          "output_type": "stream",
          "text": [
            "2022-11-30 00:30:05 - EmbeddingSimilarityEvaluator: Evaluating the model on sts-dev dataset in epoch 1 after 126 steps:\n"
          ]
        },
        {
          "name": "stderr",
          "output_type": "stream",
          "text": [
            "                                                     \n",
            "                                                            \n",
            "                                                            \n",
            "                                                            \n",
            "Epoch:  25%|██▌       | 1/4 [05:08<08:29, 169.94s/it]       "
          ]
        },
        {
          "name": "stdout",
          "output_type": "stream",
          "text": [
            "2022-11-30 00:30:06 - Cosine-Similarity :\tPearson: 0.9502\tSpearman: 0.9163\n",
            "2022-11-30 00:30:06 - Manhattan-Distance:\tPearson: 0.9165\tSpearman: 0.9152\n",
            "2022-11-30 00:30:06 - Euclidean-Distance:\tPearson: 0.9156\tSpearman: 0.9164\n",
            "2022-11-30 00:30:06 - Dot-Product-Similarity:\tPearson: 0.9428\tSpearman: 0.9174\n"
          ]
        },
        {
          "name": "stderr",
          "output_type": "stream",
          "text": [
            "                                                     \n",
            "Epoch:  25%|██▌       | 1/4 [05:23<08:29, 169.94s/it]       "
          ]
        },
        {
          "name": "stdout",
          "output_type": "stream",
          "text": [
            "2022-11-30 00:30:21 - EmbeddingSimilarityEvaluator: Evaluating the model on sts-dev dataset in epoch 1 after 140 steps:\n"
          ]
        },
        {
          "name": "stderr",
          "output_type": "stream",
          "text": [
            "                                                     \n",
            "                                                            \n",
            "                                                            \n",
            "                                                            \n",
            "                                                            \n",
            "Epoch:  25%|██▌       | 1/4 [05:26<08:29, 169.94s/it]       "
          ]
        },
        {
          "name": "stdout",
          "output_type": "stream",
          "text": [
            "2022-11-30 00:30:23 - Cosine-Similarity :\tPearson: 0.9415\tSpearman: 0.9192\n",
            "2022-11-30 00:30:23 - Manhattan-Distance:\tPearson: 0.9103\tSpearman: 0.9182\n",
            "2022-11-30 00:30:23 - Euclidean-Distance:\tPearson: 0.9084\tSpearman: 0.9187\n",
            "2022-11-30 00:30:23 - Dot-Product-Similarity:\tPearson: 0.9319\tSpearman: 0.9211\n",
            "2022-11-30 00:30:23 - Save model to static/output/models/microsoft/mpnet-base-2022-11-30_00-24-04-mean-sts\n"
          ]
        },
        {
          "name": "stderr",
          "output_type": "stream",
          "text": [
            "Iteration: 100%|██████████| 144/144 [02:38<00:00,  1.10s/it]\n",
            "Epoch:  25%|██▌       | 1/4 [05:28<08:29, 169.94s/it]"
          ]
        },
        {
          "name": "stdout",
          "output_type": "stream",
          "text": [
            "2022-11-30 00:30:26 - EmbeddingSimilarityEvaluator: Evaluating the model on sts-dev dataset after epoch 1:\n"
          ]
        },
        {
          "name": "stderr",
          "output_type": "stream",
          "text": [
            "Epoch:  50%|█████     | 2/4 [05:35<05:34, 167.24s/it]"
          ]
        },
        {
          "name": "stdout",
          "output_type": "stream",
          "text": [
            "2022-11-30 00:30:33 - Cosine-Similarity :\tPearson: 0.9479\tSpearman: 0.9192\n",
            "2022-11-30 00:30:33 - Manhattan-Distance:\tPearson: 0.9209\tSpearman: 0.9185\n",
            "2022-11-30 00:30:33 - Euclidean-Distance:\tPearson: 0.9186\tSpearman: 0.9188\n",
            "2022-11-30 00:30:33 - Dot-Product-Similarity:\tPearson: 0.9392\tSpearman: 0.9211\n"
          ]
        },
        {
          "name": "stderr",
          "output_type": "stream",
          "text": [
            "                                                     \n",
            "Epoch:  50%|█████     | 2/4 [05:45<05:34, 167.24s/it]      "
          ]
        },
        {
          "name": "stdout",
          "output_type": "stream",
          "text": [
            "2022-11-30 00:30:43 - EmbeddingSimilarityEvaluator: Evaluating the model on sts-dev dataset in epoch 2 after 14 steps:\n"
          ]
        },
        {
          "name": "stderr",
          "output_type": "stream",
          "text": [
            "                                                     \n",
            "                                                           \n",
            "                                                           \n",
            "                                                           \n",
            "Epoch:  50%|█████     | 2/4 [05:46<05:34, 167.24s/it]      "
          ]
        },
        {
          "name": "stdout",
          "output_type": "stream",
          "text": [
            "2022-11-30 00:30:44 - Cosine-Similarity :\tPearson: 0.9465\tSpearman: 0.9152\n",
            "2022-11-30 00:30:44 - Manhattan-Distance:\tPearson: 0.9193\tSpearman: 0.9150\n",
            "2022-11-30 00:30:44 - Euclidean-Distance:\tPearson: 0.9170\tSpearman: 0.9153\n",
            "2022-11-30 00:30:44 - Dot-Product-Similarity:\tPearson: 0.9413\tSpearman: 0.9157\n"
          ]
        },
        {
          "name": "stderr",
          "output_type": "stream",
          "text": [
            "                                                     \n",
            "Epoch:  50%|█████     | 2/4 [05:57<05:34, 167.24s/it]      "
          ]
        },
        {
          "name": "stdout",
          "output_type": "stream",
          "text": [
            "2022-11-30 00:30:55 - EmbeddingSimilarityEvaluator: Evaluating the model on sts-dev dataset in epoch 2 after 28 steps:\n"
          ]
        },
        {
          "name": "stderr",
          "output_type": "stream",
          "text": [
            "                                                     \n",
            "                                                           \n",
            "                                                           \n",
            "                                                           \n",
            "Epoch:  50%|█████     | 2/4 [06:03<05:34, 167.24s/it]      "
          ]
        },
        {
          "name": "stdout",
          "output_type": "stream",
          "text": [
            "2022-11-30 00:31:00 - Cosine-Similarity :\tPearson: 0.9365\tSpearman: 0.9167\n",
            "2022-11-30 00:31:00 - Manhattan-Distance:\tPearson: 0.9080\tSpearman: 0.9161\n",
            "2022-11-30 00:31:01 - Euclidean-Distance:\tPearson: 0.9022\tSpearman: 0.9163\n",
            "2022-11-30 00:31:01 - Dot-Product-Similarity:\tPearson: 0.9285\tSpearman: 0.9172\n"
          ]
        },
        {
          "name": "stderr",
          "output_type": "stream",
          "text": [
            "                                                     \n",
            "Epoch:  50%|█████     | 2/4 [06:14<05:34, 167.24s/it]      "
          ]
        },
        {
          "name": "stdout",
          "output_type": "stream",
          "text": [
            "2022-11-30 00:31:12 - EmbeddingSimilarityEvaluator: Evaluating the model on sts-dev dataset in epoch 2 after 42 steps:\n"
          ]
        },
        {
          "name": "stderr",
          "output_type": "stream",
          "text": [
            "                                                     \n",
            "                                                           \n",
            "                                                           \n",
            "                                                           \n",
            "Epoch:  50%|█████     | 2/4 [06:15<05:34, 167.24s/it]      "
          ]
        },
        {
          "name": "stdout",
          "output_type": "stream",
          "text": [
            "2022-11-30 00:31:13 - Cosine-Similarity :\tPearson: 0.9550\tSpearman: 0.9174\n",
            "2022-11-30 00:31:13 - Manhattan-Distance:\tPearson: 0.9255\tSpearman: 0.9172\n",
            "2022-11-30 00:31:13 - Euclidean-Distance:\tPearson: 0.9211\tSpearman: 0.9172\n",
            "2022-11-30 00:31:13 - Dot-Product-Similarity:\tPearson: 0.9504\tSpearman: 0.9191\n"
          ]
        },
        {
          "name": "stderr",
          "output_type": "stream",
          "text": [
            "                                                     \n",
            "Epoch:  50%|█████     | 2/4 [06:26<05:34, 167.24s/it]      "
          ]
        },
        {
          "name": "stdout",
          "output_type": "stream",
          "text": [
            "2022-11-30 00:31:24 - EmbeddingSimilarityEvaluator: Evaluating the model on sts-dev dataset in epoch 2 after 56 steps:\n"
          ]
        },
        {
          "name": "stderr",
          "output_type": "stream",
          "text": [
            "                                                     \n",
            "                                                           \n",
            "                                                           \n",
            "                                                           \n",
            "Epoch:  50%|█████     | 2/4 [06:28<05:34, 167.24s/it]      "
          ]
        },
        {
          "name": "stdout",
          "output_type": "stream",
          "text": [
            "2022-11-30 00:31:26 - Cosine-Similarity :\tPearson: 0.9515\tSpearman: 0.9179\n",
            "2022-11-30 00:31:26 - Manhattan-Distance:\tPearson: 0.9207\tSpearman: 0.9176\n",
            "2022-11-30 00:31:26 - Euclidean-Distance:\tPearson: 0.9164\tSpearman: 0.9175\n",
            "2022-11-30 00:31:26 - Dot-Product-Similarity:\tPearson: 0.9461\tSpearman: 0.9195\n"
          ]
        },
        {
          "name": "stderr",
          "output_type": "stream",
          "text": [
            "                                                     \n",
            "Epoch:  50%|█████     | 2/4 [06:43<05:34, 167.24s/it]      "
          ]
        },
        {
          "name": "stdout",
          "output_type": "stream",
          "text": [
            "2022-11-30 00:31:41 - EmbeddingSimilarityEvaluator: Evaluating the model on sts-dev dataset in epoch 2 after 70 steps:\n"
          ]
        },
        {
          "name": "stderr",
          "output_type": "stream",
          "text": [
            "                                                     \n",
            "                                                           \n",
            "                                                           \n",
            "                                                           \n",
            "Epoch:  50%|█████     | 2/4 [06:44<05:34, 167.24s/it]      "
          ]
        },
        {
          "name": "stdout",
          "output_type": "stream",
          "text": [
            "2022-11-30 00:31:42 - Cosine-Similarity :\tPearson: 0.9532\tSpearman: 0.9180\n",
            "2022-11-30 00:31:42 - Manhattan-Distance:\tPearson: 0.9233\tSpearman: 0.9177\n",
            "2022-11-30 00:31:42 - Euclidean-Distance:\tPearson: 0.9198\tSpearman: 0.9177\n",
            "2022-11-30 00:31:42 - Dot-Product-Similarity:\tPearson: 0.9479\tSpearman: 0.9196\n"
          ]
        },
        {
          "name": "stderr",
          "output_type": "stream",
          "text": [
            "                                                     \n",
            "Epoch:  50%|█████     | 2/4 [06:55<05:34, 167.24s/it]      "
          ]
        },
        {
          "name": "stdout",
          "output_type": "stream",
          "text": [
            "2022-11-30 00:31:53 - EmbeddingSimilarityEvaluator: Evaluating the model on sts-dev dataset in epoch 2 after 84 steps:\n"
          ]
        },
        {
          "name": "stderr",
          "output_type": "stream",
          "text": [
            "                                                     \n",
            "                                                           \n",
            "                                                           \n",
            "                                                           \n",
            "Epoch:  50%|█████     | 2/4 [06:56<05:34, 167.24s/it]      "
          ]
        },
        {
          "name": "stdout",
          "output_type": "stream",
          "text": [
            "2022-11-30 00:31:54 - Cosine-Similarity :\tPearson: 0.9577\tSpearman: 0.9182\n",
            "2022-11-30 00:31:54 - Manhattan-Distance:\tPearson: 0.9282\tSpearman: 0.9182\n",
            "2022-11-30 00:31:54 - Euclidean-Distance:\tPearson: 0.9249\tSpearman: 0.9184\n",
            "2022-11-30 00:31:54 - Dot-Product-Similarity:\tPearson: 0.9526\tSpearman: 0.9197\n"
          ]
        },
        {
          "name": "stderr",
          "output_type": "stream",
          "text": [
            "                                                     \n",
            "Epoch:  50%|█████     | 2/4 [07:12<05:34, 167.24s/it]      "
          ]
        },
        {
          "name": "stdout",
          "output_type": "stream",
          "text": [
            "2022-11-30 00:32:10 - EmbeddingSimilarityEvaluator: Evaluating the model on sts-dev dataset in epoch 2 after 98 steps:\n"
          ]
        },
        {
          "name": "stderr",
          "output_type": "stream",
          "text": [
            "                                                     \n",
            "                                                           \n",
            "                                                           \n",
            "                                                           \n",
            "                                                           \n",
            "Epoch:  50%|█████     | 2/4 [07:14<05:34, 167.24s/it]      "
          ]
        },
        {
          "name": "stdout",
          "output_type": "stream",
          "text": [
            "2022-11-30 00:32:11 - Cosine-Similarity :\tPearson: 0.9544\tSpearman: 0.9196\n",
            "2022-11-30 00:32:11 - Manhattan-Distance:\tPearson: 0.9252\tSpearman: 0.9195\n",
            "2022-11-30 00:32:11 - Euclidean-Distance:\tPearson: 0.9208\tSpearman: 0.9195\n",
            "2022-11-30 00:32:11 - Dot-Product-Similarity:\tPearson: 0.9487\tSpearman: 0.9217\n",
            "2022-11-30 00:32:11 - Save model to static/output/models/microsoft/mpnet-base-2022-11-30_00-24-04-mean-sts\n"
          ]
        },
        {
          "name": "stderr",
          "output_type": "stream",
          "text": [
            "                                                     \n",
            "Epoch:  50%|█████     | 2/4 [07:25<05:34, 167.24s/it]       "
          ]
        },
        {
          "name": "stdout",
          "output_type": "stream",
          "text": [
            "2022-11-30 00:32:23 - EmbeddingSimilarityEvaluator: Evaluating the model on sts-dev dataset in epoch 2 after 112 steps:\n"
          ]
        },
        {
          "name": "stderr",
          "output_type": "stream",
          "text": [
            "                                                     \n",
            "                                                            \n",
            "                                                            \n",
            "                                                            \n",
            "Epoch:  50%|█████     | 2/4 [07:31<05:34, 167.24s/it]       "
          ]
        },
        {
          "name": "stdout",
          "output_type": "stream",
          "text": [
            "2022-11-30 00:32:28 - Cosine-Similarity :\tPearson: 0.9576\tSpearman: 0.9198\n",
            "2022-11-30 00:32:28 - Manhattan-Distance:\tPearson: 0.9304\tSpearman: 0.9197\n",
            "2022-11-30 00:32:28 - Euclidean-Distance:\tPearson: 0.9256\tSpearman: 0.9196\n",
            "2022-11-30 00:32:28 - Dot-Product-Similarity:\tPearson: 0.9519\tSpearman: 0.9212\n"
          ]
        },
        {
          "name": "stderr",
          "output_type": "stream",
          "text": [
            "                                                     \n",
            "Epoch:  50%|█████     | 2/4 [07:42<05:34, 167.24s/it]       "
          ]
        },
        {
          "name": "stdout",
          "output_type": "stream",
          "text": [
            "2022-11-30 00:32:40 - EmbeddingSimilarityEvaluator: Evaluating the model on sts-dev dataset in epoch 2 after 126 steps:\n"
          ]
        },
        {
          "name": "stderr",
          "output_type": "stream",
          "text": [
            "                                                     \n",
            "                                                            \n",
            "                                                            \n",
            "                                                            \n",
            "Epoch:  50%|█████     | 2/4 [07:44<05:34, 167.24s/it]       "
          ]
        },
        {
          "name": "stdout",
          "output_type": "stream",
          "text": [
            "2022-11-30 00:32:41 - Cosine-Similarity :\tPearson: 0.9615\tSpearman: 0.9200\n",
            "2022-11-30 00:32:41 - Manhattan-Distance:\tPearson: 0.9346\tSpearman: 0.9200\n",
            "2022-11-30 00:32:41 - Euclidean-Distance:\tPearson: 0.9304\tSpearman: 0.9198\n",
            "2022-11-30 00:32:41 - Dot-Product-Similarity:\tPearson: 0.9557\tSpearman: 0.9206\n"
          ]
        },
        {
          "name": "stderr",
          "output_type": "stream",
          "text": [
            "                                                     \n",
            "Epoch:  50%|█████     | 2/4 [07:54<05:34, 167.24s/it]       "
          ]
        },
        {
          "name": "stdout",
          "output_type": "stream",
          "text": [
            "2022-11-30 00:32:52 - EmbeddingSimilarityEvaluator: Evaluating the model on sts-dev dataset in epoch 2 after 140 steps:\n"
          ]
        },
        {
          "name": "stderr",
          "output_type": "stream",
          "text": [
            "                                                     \n",
            "                                                            \n",
            "                                                            \n",
            "                                                            \n",
            "                                                            \n",
            "Epoch:  50%|█████     | 2/4 [07:56<05:34, 167.24s/it]       "
          ]
        },
        {
          "name": "stdout",
          "output_type": "stream",
          "text": [
            "2022-11-30 00:32:53 - Cosine-Similarity :\tPearson: 0.9640\tSpearman: 0.9203\n",
            "2022-11-30 00:32:53 - Manhattan-Distance:\tPearson: 0.9356\tSpearman: 0.9206\n",
            "2022-11-30 00:32:53 - Euclidean-Distance:\tPearson: 0.9320\tSpearman: 0.9205\n",
            "2022-11-30 00:32:53 - Dot-Product-Similarity:\tPearson: 0.9589\tSpearman: 0.9219\n",
            "2022-11-30 00:32:53 - Save model to static/output/models/microsoft/mpnet-base-2022-11-30_00-24-04-mean-sts\n"
          ]
        },
        {
          "name": "stderr",
          "output_type": "stream",
          "text": [
            "Iteration: 100%|██████████| 144/144 [02:27<00:00,  1.02s/it]\n",
            "Epoch:  50%|█████     | 2/4 [08:02<05:34, 167.24s/it]"
          ]
        },
        {
          "name": "stdout",
          "output_type": "stream",
          "text": [
            "2022-11-30 00:33:00 - EmbeddingSimilarityEvaluator: Evaluating the model on sts-dev dataset after epoch 2:\n"
          ]
        },
        {
          "name": "stderr",
          "output_type": "stream",
          "text": [
            "Epoch:  75%|███████▌  | 3/4 [08:04<02:38, 158.89s/it]"
          ]
        },
        {
          "name": "stdout",
          "output_type": "stream",
          "text": [
            "2022-11-30 00:33:01 - Cosine-Similarity :\tPearson: 0.9647\tSpearman: 0.9204\n",
            "2022-11-30 00:33:01 - Manhattan-Distance:\tPearson: 0.9364\tSpearman: 0.9206\n",
            "2022-11-30 00:33:01 - Euclidean-Distance:\tPearson: 0.9328\tSpearman: 0.9206\n",
            "2022-11-30 00:33:01 - Dot-Product-Similarity:\tPearson: 0.9598\tSpearman: 0.9219\n"
          ]
        },
        {
          "name": "stderr",
          "output_type": "stream",
          "text": [
            "                                                     \n",
            "Epoch:  75%|███████▌  | 3/4 [08:20<02:38, 158.89s/it]      "
          ]
        },
        {
          "name": "stdout",
          "output_type": "stream",
          "text": [
            "2022-11-30 00:33:18 - EmbeddingSimilarityEvaluator: Evaluating the model on sts-dev dataset in epoch 3 after 14 steps:\n"
          ]
        },
        {
          "name": "stderr",
          "output_type": "stream",
          "text": [
            "                                                     \n",
            "                                                           \n",
            "                                                           \n",
            "                                                           \n",
            "Epoch:  75%|███████▌  | 3/4 [08:22<02:38, 158.89s/it]      "
          ]
        },
        {
          "name": "stdout",
          "output_type": "stream",
          "text": [
            "2022-11-30 00:33:20 - Cosine-Similarity :\tPearson: 0.9627\tSpearman: 0.9201\n",
            "2022-11-30 00:33:20 - Manhattan-Distance:\tPearson: 0.9342\tSpearman: 0.9202\n",
            "2022-11-30 00:33:20 - Euclidean-Distance:\tPearson: 0.9307\tSpearman: 0.9203\n",
            "2022-11-30 00:33:20 - Dot-Product-Similarity:\tPearson: 0.9569\tSpearman: 0.9216\n"
          ]
        },
        {
          "name": "stderr",
          "output_type": "stream",
          "text": [
            "                                                     \n",
            "Epoch:  75%|███████▌  | 3/4 [08:33<02:38, 158.89s/it]      "
          ]
        },
        {
          "name": "stdout",
          "output_type": "stream",
          "text": [
            "2022-11-30 00:33:30 - EmbeddingSimilarityEvaluator: Evaluating the model on sts-dev dataset in epoch 3 after 28 steps:\n"
          ]
        },
        {
          "name": "stderr",
          "output_type": "stream",
          "text": [
            "                                                     \n",
            "                                                           \n",
            "                                                           \n",
            "                                                           \n",
            "Epoch:  75%|███████▌  | 3/4 [08:37<02:38, 158.89s/it]      "
          ]
        },
        {
          "name": "stdout",
          "output_type": "stream",
          "text": [
            "2022-11-30 00:33:35 - Cosine-Similarity :\tPearson: 0.9654\tSpearman: 0.9200\n",
            "2022-11-30 00:33:35 - Manhattan-Distance:\tPearson: 0.9357\tSpearman: 0.9197\n",
            "2022-11-30 00:33:35 - Euclidean-Distance:\tPearson: 0.9327\tSpearman: 0.9198\n",
            "2022-11-30 00:33:35 - Dot-Product-Similarity:\tPearson: 0.9600\tSpearman: 0.9217\n"
          ]
        },
        {
          "name": "stderr",
          "output_type": "stream",
          "text": [
            "                                                     \n",
            "Epoch:  75%|███████▌  | 3/4 [08:51<02:38, 158.89s/it]      "
          ]
        },
        {
          "name": "stdout",
          "output_type": "stream",
          "text": [
            "2022-11-30 00:33:48 - EmbeddingSimilarityEvaluator: Evaluating the model on sts-dev dataset in epoch 3 after 42 steps:\n"
          ]
        },
        {
          "name": "stderr",
          "output_type": "stream",
          "text": [
            "                                                     \n",
            "                                                           \n",
            "                                                           \n",
            "                                                           \n",
            "Epoch:  75%|███████▌  | 3/4 [08:52<02:38, 158.89s/it]      "
          ]
        },
        {
          "name": "stdout",
          "output_type": "stream",
          "text": [
            "2022-11-30 00:33:50 - Cosine-Similarity :\tPearson: 0.9633\tSpearman: 0.9199\n",
            "2022-11-30 00:33:50 - Manhattan-Distance:\tPearson: 0.9338\tSpearman: 0.9197\n",
            "2022-11-30 00:33:50 - Euclidean-Distance:\tPearson: 0.9308\tSpearman: 0.9198\n",
            "2022-11-30 00:33:50 - Dot-Product-Similarity:\tPearson: 0.9578\tSpearman: 0.9218\n"
          ]
        },
        {
          "name": "stderr",
          "output_type": "stream",
          "text": [
            "                                                     \n",
            "Epoch:  75%|███████▌  | 3/4 [09:03<02:38, 158.89s/it]      "
          ]
        },
        {
          "name": "stdout",
          "output_type": "stream",
          "text": [
            "2022-11-30 00:34:00 - EmbeddingSimilarityEvaluator: Evaluating the model on sts-dev dataset in epoch 3 after 56 steps:\n"
          ]
        },
        {
          "name": "stderr",
          "output_type": "stream",
          "text": [
            "                                                     \n",
            "                                                           \n",
            "                                                           \n",
            "                                                           \n",
            "                                                           \n",
            "Epoch:  75%|███████▌  | 3/4 [09:08<02:38, 158.89s/it]      "
          ]
        },
        {
          "name": "stdout",
          "output_type": "stream",
          "text": [
            "2022-11-30 00:34:06 - Cosine-Similarity :\tPearson: 0.9637\tSpearman: 0.9200\n",
            "2022-11-30 00:34:06 - Manhattan-Distance:\tPearson: 0.9344\tSpearman: 0.9198\n",
            "2022-11-30 00:34:06 - Euclidean-Distance:\tPearson: 0.9311\tSpearman: 0.9198\n",
            "2022-11-30 00:34:06 - Dot-Product-Similarity:\tPearson: 0.9588\tSpearman: 0.9220\n",
            "2022-11-30 00:34:06 - Save model to static/output/models/microsoft/mpnet-base-2022-11-30_00-24-04-mean-sts\n"
          ]
        },
        {
          "name": "stderr",
          "output_type": "stream",
          "text": [
            "                                                     \n",
            "Epoch:  75%|███████▌  | 3/4 [09:21<02:38, 158.89s/it]      "
          ]
        },
        {
          "name": "stdout",
          "output_type": "stream",
          "text": [
            "2022-11-30 00:34:19 - EmbeddingSimilarityEvaluator: Evaluating the model on sts-dev dataset in epoch 3 after 70 steps:\n"
          ]
        },
        {
          "name": "stderr",
          "output_type": "stream",
          "text": [
            "                                                     \n",
            "                                                           \n",
            "                                                           \n",
            "                                                           \n",
            "Epoch:  75%|███████▌  | 3/4 [09:23<02:38, 158.89s/it]      "
          ]
        },
        {
          "name": "stdout",
          "output_type": "stream",
          "text": [
            "2022-11-30 00:34:21 - Cosine-Similarity :\tPearson: 0.9630\tSpearman: 0.9195\n",
            "2022-11-30 00:34:21 - Manhattan-Distance:\tPearson: 0.9345\tSpearman: 0.9195\n",
            "2022-11-30 00:34:21 - Euclidean-Distance:\tPearson: 0.9315\tSpearman: 0.9195\n",
            "2022-11-30 00:34:21 - Dot-Product-Similarity:\tPearson: 0.9584\tSpearman: 0.9219\n"
          ]
        },
        {
          "name": "stderr",
          "output_type": "stream",
          "text": [
            "                                                     \n",
            "Epoch:  75%|███████▌  | 3/4 [09:39<02:38, 158.89s/it]      "
          ]
        },
        {
          "name": "stdout",
          "output_type": "stream",
          "text": [
            "2022-11-30 00:34:37 - EmbeddingSimilarityEvaluator: Evaluating the model on sts-dev dataset in epoch 3 after 84 steps:\n"
          ]
        },
        {
          "name": "stderr",
          "output_type": "stream",
          "text": [
            "                                                     \n",
            "                                                           \n",
            "                                                           \n",
            "                                                           \n",
            "Epoch:  75%|███████▌  | 3/4 [09:41<02:38, 158.89s/it]      "
          ]
        },
        {
          "name": "stdout",
          "output_type": "stream",
          "text": [
            "2022-11-30 00:34:38 - Cosine-Similarity :\tPearson: 0.9646\tSpearman: 0.9200\n",
            "2022-11-30 00:34:38 - Manhattan-Distance:\tPearson: 0.9358\tSpearman: 0.9196\n",
            "2022-11-30 00:34:38 - Euclidean-Distance:\tPearson: 0.9320\tSpearman: 0.9196\n",
            "2022-11-30 00:34:38 - Dot-Product-Similarity:\tPearson: 0.9605\tSpearman: 0.9218\n"
          ]
        },
        {
          "name": "stderr",
          "output_type": "stream",
          "text": [
            "                                                     \n",
            "Epoch:  75%|███████▌  | 3/4 [09:51<02:38, 158.89s/it]      "
          ]
        },
        {
          "name": "stdout",
          "output_type": "stream",
          "text": [
            "2022-11-30 00:34:49 - EmbeddingSimilarityEvaluator: Evaluating the model on sts-dev dataset in epoch 3 after 98 steps:\n"
          ]
        },
        {
          "name": "stderr",
          "output_type": "stream",
          "text": [
            "                                                     \n",
            "                                                           \n",
            "                                                           \n",
            "                                                           \n",
            "                                                           \n",
            "Epoch:  75%|███████▌  | 3/4 [09:59<02:38, 158.89s/it]      "
          ]
        },
        {
          "name": "stdout",
          "output_type": "stream",
          "text": [
            "2022-11-30 00:34:57 - Cosine-Similarity :\tPearson: 0.9646\tSpearman: 0.9205\n",
            "2022-11-30 00:34:57 - Manhattan-Distance:\tPearson: 0.9360\tSpearman: 0.9204\n",
            "2022-11-30 00:34:57 - Euclidean-Distance:\tPearson: 0.9319\tSpearman: 0.9204\n",
            "2022-11-30 00:34:57 - Dot-Product-Similarity:\tPearson: 0.9604\tSpearman: 0.9222\n",
            "2022-11-30 00:34:57 - Save model to static/output/models/microsoft/mpnet-base-2022-11-30_00-24-04-mean-sts\n"
          ]
        },
        {
          "name": "stderr",
          "output_type": "stream",
          "text": [
            "                                                     \n",
            "Epoch:  75%|███████▌  | 3/4 [10:11<02:38, 158.89s/it]       "
          ]
        },
        {
          "name": "stdout",
          "output_type": "stream",
          "text": [
            "2022-11-30 00:35:08 - EmbeddingSimilarityEvaluator: Evaluating the model on sts-dev dataset in epoch 3 after 112 steps:\n"
          ]
        },
        {
          "name": "stderr",
          "output_type": "stream",
          "text": [
            "                                                     \n",
            "                                                            \n",
            "                                                            \n",
            "                                                            \n",
            "Epoch:  75%|███████▌  | 3/4 [10:17<02:38, 158.89s/it]       "
          ]
        },
        {
          "name": "stdout",
          "output_type": "stream",
          "text": [
            "2022-11-30 00:35:14 - Cosine-Similarity :\tPearson: 0.9630\tSpearman: 0.9203\n",
            "2022-11-30 00:35:14 - Manhattan-Distance:\tPearson: 0.9343\tSpearman: 0.9204\n",
            "2022-11-30 00:35:14 - Euclidean-Distance:\tPearson: 0.9302\tSpearman: 0.9204\n",
            "2022-11-30 00:35:15 - Dot-Product-Similarity:\tPearson: 0.9586\tSpearman: 0.9220\n"
          ]
        },
        {
          "name": "stderr",
          "output_type": "stream",
          "text": [
            "                                                     \n",
            "Epoch:  75%|███████▌  | 3/4 [10:30<02:38, 158.89s/it]       "
          ]
        },
        {
          "name": "stdout",
          "output_type": "stream",
          "text": [
            "2022-11-30 00:35:27 - EmbeddingSimilarityEvaluator: Evaluating the model on sts-dev dataset in epoch 3 after 126 steps:\n"
          ]
        },
        {
          "name": "stderr",
          "output_type": "stream",
          "text": [
            "                                                     \n",
            "                                                            \n",
            "                                                            \n",
            "                                                            \n",
            "Epoch:  75%|███████▌  | 3/4 [10:31<02:38, 158.89s/it]       "
          ]
        },
        {
          "name": "stdout",
          "output_type": "stream",
          "text": [
            "2022-11-30 00:35:29 - Cosine-Similarity :\tPearson: 0.9633\tSpearman: 0.9203\n",
            "2022-11-30 00:35:29 - Manhattan-Distance:\tPearson: 0.9349\tSpearman: 0.9202\n",
            "2022-11-30 00:35:29 - Euclidean-Distance:\tPearson: 0.9309\tSpearman: 0.9203\n",
            "2022-11-30 00:35:29 - Dot-Product-Similarity:\tPearson: 0.9589\tSpearman: 0.9220\n"
          ]
        },
        {
          "name": "stderr",
          "output_type": "stream",
          "text": [
            "                                                     \n",
            "Epoch:  75%|███████▌  | 3/4 [10:47<02:38, 158.89s/it]       "
          ]
        },
        {
          "name": "stdout",
          "output_type": "stream",
          "text": [
            "2022-11-30 00:35:45 - EmbeddingSimilarityEvaluator: Evaluating the model on sts-dev dataset in epoch 3 after 140 steps:\n"
          ]
        },
        {
          "name": "stderr",
          "output_type": "stream",
          "text": [
            "                                                     \n",
            "                                                            \n",
            "                                                            \n",
            "                                                            \n",
            "Epoch:  75%|███████▌  | 3/4 [10:49<02:38, 158.89s/it]       "
          ]
        },
        {
          "name": "stdout",
          "output_type": "stream",
          "text": [
            "2022-11-30 00:35:47 - Cosine-Similarity :\tPearson: 0.9635\tSpearman: 0.9203\n",
            "2022-11-30 00:35:47 - Manhattan-Distance:\tPearson: 0.9351\tSpearman: 0.9203\n",
            "2022-11-30 00:35:47 - Euclidean-Distance:\tPearson: 0.9311\tSpearman: 0.9203\n",
            "2022-11-30 00:35:47 - Dot-Product-Similarity:\tPearson: 0.9592\tSpearman: 0.9220\n"
          ]
        },
        {
          "name": "stderr",
          "output_type": "stream",
          "text": [
            "Iteration: 100%|██████████| 144/144 [02:46<00:00,  1.16s/it]\n",
            "Epoch:  75%|███████▌  | 3/4 [10:50<02:38, 158.89s/it]"
          ]
        },
        {
          "name": "stdout",
          "output_type": "stream",
          "text": [
            "2022-11-30 00:35:48 - EmbeddingSimilarityEvaluator: Evaluating the model on sts-dev dataset after epoch 3:\n"
          ]
        },
        {
          "name": "stderr",
          "output_type": "stream",
          "text": [
            "Epoch: 100%|██████████| 4/4 [10:56<00:00, 164.02s/it]"
          ]
        },
        {
          "name": "stdout",
          "output_type": "stream",
          "text": [
            "2022-11-30 00:35:53 - Cosine-Similarity :\tPearson: 0.9635\tSpearman: 0.9203\n",
            "2022-11-30 00:35:53 - Manhattan-Distance:\tPearson: 0.9350\tSpearman: 0.9203\n",
            "2022-11-30 00:35:53 - Euclidean-Distance:\tPearson: 0.9311\tSpearman: 0.9203\n",
            "2022-11-30 00:35:53 - Dot-Product-Similarity:\tPearson: 0.9591\tSpearman: 0.9220\n"
          ]
        },
        {
          "name": "stderr",
          "output_type": "stream",
          "text": [
            "\n"
          ]
        }
      ],
      "source": [
        "sts_model.fit()"
      ]
    },
    {
      "cell_type": "markdown",
      "metadata": {},
      "source": [
        "## Evaluate on a question"
      ]
    },
    {
      "cell_type": "code",
      "execution_count": 87,
      "metadata": {},
      "outputs": [],
      "source": [
        "# qa_pairs = QA.loc[:, \"question\":\"answer\"]"
      ]
    },
    {
      "cell_type": "code",
      "execution_count": 4,
      "metadata": {},
      "outputs": [],
      "source": [
        "from datasets import Dataset\n",
        "from transformers import AutoTokenizer, AutoModel\n",
        "\n",
        "model_ckpt = \"static/output/models/microsoft/mpnet-base-2022-11-30_00-24-04-mean-sts\"\n",
        "tokenizer = AutoTokenizer.from_pretrained(model_ckpt)\n",
        "model = AutoModel.from_pretrained(model_ckpt)\n",
        "\n",
        "import torch\n",
        "\n",
        "device = torch.device(\"cuda\")\n",
        "model.to(device)\n",
        "\n",
        "def cls_pooling(model_output):\n",
        "    return model_output.last_hidden_state[:, 0]\n",
        "\n",
        "def get_embeddings(text_list):\n",
        "    encoded_input = tokenizer(\n",
        "        text_list, padding=True, truncation=True, return_tensors=\"pt\"\n",
        "    )\n",
        "    encoded_input = {k: v.to(device) for k, v in encoded_input.items()}\n",
        "    model_output = model(**encoded_input)\n",
        "    return cls_pooling(model_output)\n",
        "\n",
        "qa_pairs = Dataset.from_pandas(QA)"
      ]
    },
    {
      "cell_type": "code",
      "execution_count": 5,
      "metadata": {},
      "outputs": [
        {
          "name": "stderr",
          "output_type": "stream",
          "text": [
            "  0%|          | 0/645 [00:00<?, ?ex/s]Asking to truncate to max_length but no maximum length is provided and the model has no predefined maximum length. Default to no truncation.\n",
            "100%|██████████| 645/645 [00:10<00:00, 62.45ex/s]\n",
            "100%|██████████| 1/1 [00:00<00:00, 232.38it/s]\n"
          ]
        },
        {
          "data": {
            "text/plain": [
              "Dataset({\n",
              "    features: ['group', 'question', 'answer', 'embeddings'],\n",
              "    num_rows: 645\n",
              "})"
            ]
          },
          "execution_count": 5,
          "metadata": {},
          "output_type": "execute_result"
        }
      ],
      "source": [
        "embeddings_dataset = qa_pairs.map(\n",
        "    lambda x: {\"embeddings\": get_embeddings(x[\"question\"]).detach().cpu().numpy()[0]}\n",
        ")\n",
        "\n",
        "embeddings_dataset.add_faiss_index(column=\"embeddings\")"
      ]
    },
    {
      "cell_type": "code",
      "execution_count": 6,
      "metadata": {},
      "outputs": [],
      "source": [
        "tool.save_py_obj(\"embeddings_dataset_question_eval.pkl\", embeddings_dataset)"
      ]
    },
    {
      "cell_type": "code",
      "execution_count": 7,
      "metadata": {},
      "outputs": [],
      "source": [
        "embeddings_dataset = tool.load_py_obj(\"embeddings_dataset_question_eval.pkl\")"
      ]
    },
    {
      "cell_type": "code",
      "execution_count": 16,
      "metadata": {},
      "outputs": [],
      "source": [
        "# question = \"terapi untuk penyakit bph adalah\"\n",
        "# question = \"Dermatitis Atopik dapat diobati dengan\"\n",
        "question = \"terapi untuk penyakit Impetigo Bulosa\"\n",
        "question_embedding = get_embeddings([question]).cpu().detach().numpy()\n",
        "question_embedding.shape\n",
        "\n",
        "scores, samples = embeddings_dataset.get_nearest_examples(\n",
        "    \"embeddings\", question_embedding, k=4\n",
        ")"
      ]
    },
    {
      "cell_type": "code",
      "execution_count": 17,
      "metadata": {},
      "outputs": [
        {
          "name": "stdout",
          "output_type": "stream",
          "text": [
            "Question : bagaimana Impetigo Bulosa dapat diobati?\n",
            "Answer : R/ Sporetic syr fl I S 2 dd 40 mg R/ Bactoderm gr 10 Mediklin gr 10 mfla da inpot I S 2 dd ue\n",
            "SCORE: 6.04553747177124\n",
            "==================================================\n",
            "\n",
            "Question : apa terapi yang tepat untuk penyakit Impetigo Bulosa?\n",
            "Answer : R/ Sporetic syr fl I S 2 dd 40 mg R/ Bactoderm gr 10 Mediklin gr 10 mfla da inpot I S 2 dd ue\n",
            "SCORE: 4.567631244659424\n",
            "==================================================\n",
            "\n",
            "Question : terapi apa yg disarankan untuk penderita Impetigo Bulosa?\n",
            "Answer : R/ Sporetic syr fl I S 2 dd 40 mg R/ Bactoderm gr 10 Mediklin gr 10 mfla da inpot I S 2 dd ue\n",
            "SCORE: 3.652449369430542\n",
            "==================================================\n",
            "\n",
            "Question : terapi apa yang diperlukan untuk penyakit Impetigo Bulosa?\n",
            "Answer : R/ Sporetic syr fl I S 2 dd 40 mg R/ Bactoderm gr 10 Mediklin gr 10 mfla da inpot I S 2 dd ue\n",
            "SCORE: 2.1214425563812256\n",
            "==================================================\n",
            "\n"
          ]
        }
      ],
      "source": [
        "import pandas as pd\n",
        "\n",
        "samples_df = pd.DataFrame.from_dict(samples)\n",
        "samples_df[\"scores\"] = scores\n",
        "samples_df.sort_values(\"scores\", ascending=False, inplace=True)\n",
        "\n",
        "for _, row in samples_df.iterrows():\n",
        "    print(f\"Question : {row.question}\")\n",
        "    print(f\"Answer : {row.answer}\")\n",
        "    print(f\"SCORE: {row.scores}\")\n",
        "    print(\"=\" * 50)\n",
        "    print()"
      ]
    },
    {
      "cell_type": "markdown",
      "metadata": {},
      "source": [
        "## F1 & Accuracy Evaluation"
      ]
    },
    {
      "cell_type": "code",
      "execution_count": 33,
      "metadata": {},
      "outputs": [],
      "source": [
        "model_ft = \"static/output/models/microsoft/mpnet-base-2022-11-30_00-24-04-mean-sts\"\n",
        "loadFtModel = tool.LoadFTModel(model_ft)"
      ]
    },
    {
      "cell_type": "code",
      "execution_count": 34,
      "metadata": {},
      "outputs": [
        {
          "name": "stderr",
          "output_type": "stream",
          "text": [
            "  0%|          | 0/645 [00:00<?, ?ex/s]Asking to truncate to max_length but no maximum length is provided and the model has no predefined maximum length. Default to no truncation.\n",
            "100%|██████████| 645/645 [00:57<00:00, 11.14ex/s]\n",
            "100%|██████████| 1/1 [00:00<00:00, 331.04it/s]\n"
          ]
        }
      ],
      "source": [
        "embedding_dataset = loadFtModel.map_embeddings(QA)"
      ]
    },
    {
      "cell_type": "code",
      "execution_count": 19,
      "metadata": {},
      "outputs": [],
      "source": [
        "tool.save_py_obj(f\"embedding_dataset.pkl\", embedding_dataset)"
      ]
    },
    {
      "cell_type": "code",
      "execution_count": 35,
      "metadata": {},
      "outputs": [
        {
          "name": "stderr",
          "output_type": "stream",
          "text": [
            "100%|██████████| 129/129 [00:02<00:00, 46.94it/s]"
          ]
        },
        {
          "name": "stdout",
          "output_type": "stream",
          "text": [
            "true prediction = 113, false prediction = 16\n"
          ]
        },
        {
          "name": "stderr",
          "output_type": "stream",
          "text": [
            "\n"
          ]
        },
        {
          "data": {
            "text/plain": [
              "'F1 = 0.876, Accuracy = 0.876'"
            ]
          },
          "execution_count": 35,
          "metadata": {},
          "output_type": "execute_result"
        }
      ],
      "source": [
        "loadFtModel.get_evaluation(QA_test)"
      ]
    },
    {
      "cell_type": "code",
      "execution_count": 21,
      "metadata": {},
      "outputs": [],
      "source": [
        "tool.save_py_obj(\"df_for_calculate_f1_acc.pkl\", loadFtModel.evaluation_df)"
      ]
    },
    {
      "cell_type": "code",
      "execution_count": 27,
      "metadata": {},
      "outputs": [],
      "source": [
        "df_for_calculate_f1_acc = tool.load_py_obj(\"df_for_calculate_f1_acc.pkl\")"
      ]
    }
  ],
  "metadata": {
    "colab": {
      "collapsed_sections": [],
      "machine_shape": "hm",
      "provenance": []
    },
    "gpuClass": "premium",
    "kernelspec": {
      "display_name": "Python 3.9.15 ('rtd')",
      "language": "python",
      "name": "python3"
    },
    "language_info": {
      "codemirror_mode": {
        "name": "ipython",
        "version": 3
      },
      "file_extension": ".py",
      "mimetype": "text/x-python",
      "name": "python",
      "nbconvert_exporter": "python",
      "pygments_lexer": "ipython3",
      "version": "3.9.15 (main, Nov  4 2022, 16:13:54) \n[GCC 11.2.0]"
    },
    "vscode": {
      "interpreter": {
        "hash": "ef4240692cb61936a58fb2b971638f546486426c4f89e3bd13458fff4e6e0abb"
      }
    }
  },
  "nbformat": 4,
  "nbformat_minor": 0
}
