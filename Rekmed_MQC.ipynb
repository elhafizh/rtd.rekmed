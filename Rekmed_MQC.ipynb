{
  "cells": [
    {
      "cell_type": "code",
      "execution_count": null,
      "metadata": {
        "id": "DY1RgbeMyE0q"
      },
      "outputs": [],
      "source": [
        "import pandas as pd\n",
        "from utils import tool, indexing\n",
        "import numpy as np"
      ]
    },
    {
      "cell_type": "code",
      "execution_count": null,
      "metadata": {},
      "outputs": [],
      "source": [
        "%load_ext autoreload\n",
        "%autoreload 2"
      ]
    },
    {
      "cell_type": "markdown",
      "metadata": {},
      "source": [
        "## Load Dataset"
      ]
    },
    {
      "cell_type": "code",
      "execution_count": null,
      "metadata": {
        "id": "yrN2JFh9TD8Q"
      },
      "outputs": [],
      "source": [
        "file_path = \"static/data SOAP indo.xlsx\"\n",
        "rekmed_xl = pd.read_excel(file_path)"
      ]
    },
    {
      "cell_type": "code",
      "execution_count": null,
      "metadata": {
        "colab": {
          "base_uri": "https://localhost:8080/"
        },
        "collapsed": true,
        "id": "6FcMNfr57P8B",
        "outputId": "31d1648d-f9c4-4876-ec9d-cb7451d1870f"
      },
      "outputs": [],
      "source": [
        "rekmed_xl.isnull().sum()"
      ]
    },
    {
      "cell_type": "markdown",
      "metadata": {
        "id": "eSgN_vVnAL4m"
      },
      "source": [
        "## Preprocessing"
      ]
    },
    {
      "cell_type": "code",
      "execution_count": null,
      "metadata": {
        "id": "MM6226qtTxvs"
      },
      "outputs": [],
      "source": [
        "rekmed_xl = tool.drop_unnecessary_samples(rekmed_xl)\n",
        "rekmed_xl = tool.remove_html_tag(rekmed_xl)"
      ]
    },
    {
      "cell_type": "code",
      "execution_count": null,
      "metadata": {},
      "outputs": [],
      "source": [
        "rekmed_xl.isnull().sum()"
      ]
    },
    {
      "cell_type": "code",
      "execution_count": null,
      "metadata": {},
      "outputs": [],
      "source": [
        "# rekmed_xl.reset_index(drop=False)\n",
        "rekmed_xl"
      ]
    },
    {
      "cell_type": "code",
      "execution_count": null,
      "metadata": {},
      "outputs": [],
      "source": [
        "# save preprocessing data\n",
        "tool.save_py_obj(\"rekmed_post_preprocess.pkl\", rekmed_xl)"
      ]
    },
    {
      "cell_type": "code",
      "execution_count": null,
      "metadata": {},
      "outputs": [],
      "source": [
        "# load previous clean data\n",
        "rekmed_xl_pkl = tool.load_py_obj(\"rekmed_post_preprocess.pkl\")"
      ]
    },
    {
      "cell_type": "code",
      "execution_count": null,
      "metadata": {},
      "outputs": [],
      "source": [
        "# len(rekmed_xl_pkl)\n",
        "len(rekmed_xl)\n",
        "# 126483 -> 114058"
      ]
    },
    {
      "cell_type": "markdown",
      "metadata": {},
      "source": [
        "## Generate Question & Answer"
      ]
    },
    {
      "cell_type": "code",
      "execution_count": null,
      "metadata": {},
      "outputs": [],
      "source": [
        "# sampling\n",
        "sample_rekmed = rekmed_xl_pkl[:100]\n",
        "# sample_rekmed\n",
        "print(f\"total samples = {len(sample_rekmed)}\")\n",
        "rekmed_l_tokens = indexing.tokenization(sample_rekmed.diagnosa)\n",
        "sample_rekmed, rekmed_l_tokens = tool.drop_meaningless_tokens(sample_rekmed, rekmed_l_tokens)\n",
        "print(f\"total samples after dropping some meaningless tokens = {len(sample_rekmed)}\")"
      ]
    },
    {
      "cell_type": "code",
      "execution_count": null,
      "metadata": {},
      "outputs": [],
      "source": [
        "QA = tool.qa_generator(sample_rekmed)"
      ]
    },
    {
      "cell_type": "code",
      "execution_count": null,
      "metadata": {},
      "outputs": [],
      "source": [
        "QA.head(4)"
      ]
    },
    {
      "cell_type": "code",
      "execution_count": null,
      "metadata": {},
      "outputs": [],
      "source": [
        "QA = tool.grouping_qa(QA)"
      ]
    },
    {
      "cell_type": "code",
      "execution_count": null,
      "metadata": {},
      "outputs": [],
      "source": [
        "QA"
      ]
    },
    {
      "cell_type": "code",
      "execution_count": null,
      "metadata": {},
      "outputs": [],
      "source": [
        "label_entailment = tool.gather_entailment(QA) # 0.8"
      ]
    },
    {
      "cell_type": "code",
      "execution_count": null,
      "metadata": {},
      "outputs": [],
      "source": [
        "label_neutral = tool.gather_neutral(QA) # 0.4"
      ]
    },
    {
      "cell_type": "code",
      "execution_count": null,
      "metadata": {},
      "outputs": [],
      "source": [
        "label_contradiction = tool.gather_contradiction(QA) # 0"
      ]
    },
    {
      "cell_type": "code",
      "execution_count": null,
      "metadata": {},
      "outputs": [],
      "source": [
        "print(f\"Total samples of QA : {len(QA)}\")\n",
        "print(f\"entailment : {len(label_entailment)}\")\n",
        "print(f\"neutral : {len(label_neutral)}\")\n",
        "print(f\"contradiction : {len(label_contradiction)}\")"
      ]
    },
    {
      "cell_type": "code",
      "execution_count": null,
      "metadata": {},
      "outputs": [],
      "source": [
        "train_examples = tool.concatenate_train_examples(\n",
        "    label_entailment, label_neutral, label_contradiction\n",
        ")"
      ]
    },
    {
      "cell_type": "code",
      "execution_count": null,
      "metadata": {},
      "outputs": [],
      "source": [
        "model_name = \"microsoft/mpnet-base\"\n",
        "sts_model = tool.STSModel(model_name, local=False)"
      ]
    },
    {
      "cell_type": "code",
      "execution_count": null,
      "metadata": {},
      "outputs": [],
      "source": [
        "# # prepare training & validation samples\n",
        "sts_model.get_train_test_dataset(train_examples)"
      ]
    },
    {
      "cell_type": "code",
      "execution_count": null,
      "metadata": {},
      "outputs": [],
      "source": [
        "sts_model.fit()"
      ]
    },
    {
      "cell_type": "code",
      "execution_count": null,
      "metadata": {},
      "outputs": [],
      "source": [
        "model_ft = \"output/models/microsoft/mpnet-base-2022-11-23_03-50-13-mean-sts\"\n",
        "loadFtModel = tool.LoadFTModel(model_ft)"
      ]
    },
    {
      "cell_type": "code",
      "execution_count": null,
      "metadata": {},
      "outputs": [],
      "source": [
        "qa_pairs = QA.loc[:, \"question\":\"answer\"]"
      ]
    },
    {
      "cell_type": "code",
      "execution_count": null,
      "metadata": {},
      "outputs": [],
      "source": [
        "from datasets import Dataset\n",
        "from transformers import AutoTokenizer, AutoModel\n",
        "\n",
        "model_ckpt = \"output/models/microsoft/mpnet-base-2022-11-23_03-50-13-mean-sts\"\n",
        "tokenizer = AutoTokenizer.from_pretrained(model_ckpt)\n",
        "model = AutoModel.from_pretrained(model_ckpt)\n",
        "\n",
        "import torch\n",
        "\n",
        "device = torch.device(\"cuda\")\n",
        "model.to(device)\n",
        "\n",
        "def cls_pooling(model_output):\n",
        "    return model_output.last_hidden_state[:, 0]\n",
        "\n",
        "def get_embeddings(text_list):\n",
        "    encoded_input = tokenizer(\n",
        "        text_list, padding=True, truncation=True, return_tensors=\"pt\"\n",
        "    )\n",
        "    encoded_input = {k: v.to(device) for k, v in encoded_input.items()}\n",
        "    model_output = model(**encoded_input)\n",
        "    return cls_pooling(model_output)\n",
        "\n",
        "qa_pairs = Dataset.from_pandas(qa_pairs)"
      ]
    },
    {
      "cell_type": "code",
      "execution_count": null,
      "metadata": {},
      "outputs": [],
      "source": [
        "embeddings_dataset = qa_pairs.map(\n",
        "    lambda x: {\"embeddings\": get_embeddings(x[\"question\"]).detach().cpu().numpy()[0]}\n",
        ")\n",
        "\n",
        "embeddings_dataset.add_faiss_index(column=\"embeddings\")"
      ]
    },
    {
      "cell_type": "code",
      "execution_count": null,
      "metadata": {},
      "outputs": [],
      "source": [
        "# question = \"terapi untuk penyakit bph adalah\"\n",
        "question = \"Dermatitis Atopik dapat diobati dengan\"\n",
        "question_embedding = get_embeddings([question]).cpu().detach().numpy()\n",
        "question_embedding.shape\n",
        "\n",
        "scores, samples = embeddings_dataset.get_nearest_examples(\n",
        "    \"embeddings\", question_embedding, k=4\n",
        ")"
      ]
    },
    {
      "cell_type": "code",
      "execution_count": null,
      "metadata": {},
      "outputs": [],
      "source": [
        "import pandas as pd\n",
        "\n",
        "samples_df = pd.DataFrame.from_dict(samples)\n",
        "samples_df[\"scores\"] = scores\n",
        "samples_df.sort_values(\"scores\", ascending=False, inplace=True)\n",
        "\n",
        "for _, row in samples_df.iterrows():\n",
        "    print(f\"Question : {row.question}\")\n",
        "    print(f\"Answer : {row.answer}\")\n",
        "    print(f\"SCORE: {row.scores}\")\n",
        "    print(\"=\" * 50)\n",
        "    print()"
      ]
    }
  ],
  "metadata": {
    "colab": {
      "collapsed_sections": [],
      "machine_shape": "hm",
      "provenance": []
    },
    "gpuClass": "premium",
    "kernelspec": {
      "display_name": "Python 3.9.15 ('vta')",
      "language": "python",
      "name": "python3"
    },
    "language_info": {
      "codemirror_mode": {
        "name": "ipython",
        "version": 3
      },
      "file_extension": ".py",
      "mimetype": "text/x-python",
      "name": "python",
      "nbconvert_exporter": "python",
      "pygments_lexer": "ipython3",
      "version": "3.9.15"
    },
    "vscode": {
      "interpreter": {
        "hash": "3190b1bb9a2124d95aba1734bcac41c6d438be7a54b621b57fd5bda5b90ce384"
      }
    }
  },
  "nbformat": 4,
  "nbformat_minor": 0
}
