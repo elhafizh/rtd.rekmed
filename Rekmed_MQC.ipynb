{
  "cells": [
    {
      "cell_type": "code",
      "execution_count": null,
      "metadata": {
        "id": "DY1RgbeMyE0q"
      },
      "outputs": [],
      "source": [
        "import pandas as pd\n",
        "from utils import tool, indexing\n",
        "import numpy as np"
      ]
    },
    {
      "cell_type": "code",
      "execution_count": null,
      "metadata": {},
      "outputs": [],
      "source": [
        "%load_ext autoreload\n",
        "%autoreload 2"
      ]
    },
    {
      "cell_type": "markdown",
      "metadata": {},
      "source": [
        "## Load Dataset"
      ]
    },
    {
      "cell_type": "code",
      "execution_count": null,
      "metadata": {
        "id": "yrN2JFh9TD8Q"
      },
      "outputs": [],
      "source": [
        "file_path = \"static/data SOAP indo.xlsx\"\n",
        "rekmed_xl = pd.read_excel(file_path)"
      ]
    },
    {
      "cell_type": "code",
      "execution_count": null,
      "metadata": {
        "colab": {
          "base_uri": "https://localhost:8080/"
        },
        "collapsed": true,
        "id": "6FcMNfr57P8B",
        "outputId": "31d1648d-f9c4-4876-ec9d-cb7451d1870f"
      },
      "outputs": [],
      "source": [
        "rekmed_xl.isnull().sum()"
      ]
    },
    {
      "cell_type": "markdown",
      "metadata": {
        "id": "eSgN_vVnAL4m"
      },
      "source": [
        "## Preprocessing"
      ]
    },
    {
      "cell_type": "code",
      "execution_count": null,
      "metadata": {
        "id": "MM6226qtTxvs"
      },
      "outputs": [],
      "source": [
        "rekmed_xl = tool.drop_unnecessary_samples(rekmed_xl)\n",
        "rekmed_xl = tool.remove_html_tag(rekmed_xl)"
      ]
    },
    {
      "cell_type": "code",
      "execution_count": null,
      "metadata": {},
      "outputs": [],
      "source": [
        "rekmed_xl.isnull().sum()"
      ]
    },
    {
      "cell_type": "code",
      "execution_count": null,
      "metadata": {},
      "outputs": [],
      "source": [
        "# save preprocessing data\n",
        "tool.save_py_obj(\"rekmed_post_preprocess.pkl\", rekmed_xl)"
      ]
    },
    {
      "cell_type": "code",
      "execution_count": null,
      "metadata": {},
      "outputs": [],
      "source": [
        "# load previous clean data\n",
        "rekmed_xl_pkl = tool.load_py_obj(\"rekmed_post_preprocess.pkl\")"
      ]
    },
    {
      "cell_type": "markdown",
      "metadata": {},
      "source": [
        "## Generate Question & Answer"
      ]
    },
    {
      "cell_type": "code",
      "execution_count": null,
      "metadata": {},
      "outputs": [],
      "source": [
        "# sampling\n",
        "sample_rekmed = rekmed_xl_pkl[1:70]\n",
        "print(f\"total samples = {len(sample_rekmed)}\")\n",
        "rekmed_l_tokens = indexing.tokenization(sample_rekmed.diagnosa)\n",
        "sample_rekmed, rekmed_l_tokens = tool.drop_meaningless_tokens(sample_rekmed, rekmed_l_tokens)\n",
        "print(f\"total samples after dropping some meaningless tokens = {len(sample_rekmed)}\")"
      ]
    },
    {
      "cell_type": "code",
      "execution_count": null,
      "metadata": {},
      "outputs": [],
      "source": [
        "sampling_qa_pair = tool.SamplingQAPair(\n",
        "    sample_rekmed.iloc[0].tindakan,\n",
        "    sample_rekmed.iloc[0].terapi,\n",
        "    sample_rekmed.iloc[0].diagnosa,\n",
        ")\n",
        "# sampling_qa_pair = tool.SamplingQAPair(\n",
        "#     sample_rekmed.iloc[4].tindakan,\n",
        "#     sample_rekmed.iloc[4].terapi,\n",
        "#     sample_rekmed.iloc[4].diagnosa,\n",
        "# )\n",
        "sampling_qa_pair.generate()"
      ]
    },
    {
      "cell_type": "code",
      "execution_count": null,
      "metadata": {},
      "outputs": [],
      "source": [
        "tool.qa_generator(sample_rekmed)"
      ]
    }
  ],
  "metadata": {
    "colab": {
      "collapsed_sections": [],
      "machine_shape": "hm",
      "provenance": []
    },
    "gpuClass": "premium",
    "kernelspec": {
      "display_name": "Python 3.9.15 ('rtd')",
      "language": "python",
      "name": "python3"
    },
    "language_info": {
      "codemirror_mode": {
        "name": "ipython",
        "version": 3
      },
      "file_extension": ".py",
      "mimetype": "text/x-python",
      "name": "python",
      "nbconvert_exporter": "python",
      "pygments_lexer": "ipython3",
      "version": "3.9.15"
    },
    "vscode": {
      "interpreter": {
        "hash": "ef4240692cb61936a58fb2b971638f546486426c4f89e3bd13458fff4e6e0abb"
      }
    }
  },
  "nbformat": 4,
  "nbformat_minor": 0
}
