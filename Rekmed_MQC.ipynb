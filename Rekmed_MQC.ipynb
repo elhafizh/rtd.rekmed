{
  "cells": [
    {
      "cell_type": "markdown",
      "metadata": {
        "id": "DY1RgbeMyE0q"
      },
      "source": [
        "## Requirements"
      ]
    },
    {
      "cell_type": "code",
      "execution_count": null,
      "metadata": {
        "id": "4D9gdYc6RYEC"
      },
      "outputs": [],
      "source": [
        "import pandas as pd\n",
        "import numpy as np\n",
        "import sklearn"
      ]
    },
    {
      "cell_type": "code",
      "execution_count": null,
      "metadata": {
        "id": "yrN2JFh9TD8Q"
      },
      "outputs": [],
      "source": [
        "file_path = \"static/data SOAP indo.xlsx\"\n",
        "rekmed_xl = pd.read_excel(file_path)"
      ]
    },
    {
      "cell_type": "code",
      "execution_count": null,
      "metadata": {
        "colab": {
          "base_uri": "https://localhost:8080/"
        },
        "collapsed": true,
        "id": "6FcMNfr57P8B",
        "outputId": "31d1648d-f9c4-4876-ec9d-cb7451d1870f"
      },
      "outputs": [],
      "source": [
        "rekmed_xl.isnull().sum()"
      ]
    },
    {
      "cell_type": "markdown",
      "metadata": {
        "id": "eSgN_vVnAL4m"
      },
      "source": [
        "## Preprocessing"
      ]
    },
    {
      "cell_type": "code",
      "execution_count": null,
      "metadata": {
        "collapsed": true,
        "id": "fJpFKEhR_YL_"
      },
      "outputs": [],
      "source": [
        "def drop_unnecessary_samples(df):\n",
        "    # Drop unused columns\n",
        "    df.drop(['FS_ANAMNESA', 'FS_CATATAN_FISIK'], axis=1, inplace=True)\n",
        "    # Drop null diagnosa\n",
        "    df.dropna(subset=['FS_DIAGNOSA'], inplace=True)\n",
        "    column_1_nulls = df.FS_TINDAKAN.isnull()\n",
        "    column_2_nulls = df.FS_TERAPI.isnull()\n",
        "    # drop if tindakan & terapi both nulls\n",
        "    intersect_nulls = set(df[column_1_nulls].index.tolist())\\\n",
        "                        .intersection(set(df[column_2_nulls].index.tolist()))\n",
        "    intersect_nulls = list(intersect_nulls)\n",
        "    df.drop(intersect_nulls, inplace=True)\n",
        "    df.reset_index(drop=True)\n",
        "    return df"
      ]
    },
    {
      "cell_type": "code",
      "execution_count": null,
      "metadata": {
        "id": "zNlJ1vtCSooF"
      },
      "outputs": [],
      "source": [
        "rekmed_xl = drop_unnecessary_samples(rekmed_xl)"
      ]
    },
    {
      "cell_type": "code",
      "execution_count": null,
      "metadata": {
        "colab": {
          "base_uri": "https://localhost:8080/"
        },
        "id": "RNVJPd8VS5zy",
        "outputId": "2b565639-8c97-4e36-f7a0-ae726f6410b2"
      },
      "outputs": [],
      "source": [
        "rekmed_xl.isnull().sum()"
      ]
    },
    {
      "cell_type": "code",
      "execution_count": null,
      "metadata": {
        "id": "WRIP6w8LHy23"
      },
      "outputs": [],
      "source": [
        "import re\n",
        "\n",
        "def remove_html_tag(df):\n",
        "    tag_pattern = \"<(?:\\\"[^\\\"]*\\\"['\\\"]*|'[^']*'['\\\"]*|[^'\\\">])+>\"\n",
        "    over_space = \"\\s\\s+\"\n",
        "    column_1_nulls = df.FS_TINDAKAN.isnull()\n",
        "    column_2_nulls = df.FS_TERAPI.isnull()\n",
        "    for i, row in df.iterrows():\n",
        "        if not column_1_nulls[i]:\n",
        "            row[0] = re.sub(tag_pattern, '', row[0])\n",
        "            row[0] = re.sub(\"&nbsp;\", '', row[0])\n",
        "            row[0] = re.sub(\"---&gt;\", '', row[0])\n",
        "            row[0] = re.sub(over_space, ' ', row[0]).strip()\n",
        "        if not column_2_nulls[i]:\n",
        "            row[1] = re.sub(tag_pattern, '', row[1])\n",
        "            row[1] = re.sub(\"&nbsp;\", '', row[1])\n",
        "            row[1] = re.sub(\"---&gt;\", '', row[1])\n",
        "            row[1] = re.sub(over_space, ' ', row[1]).strip()\n",
        "        row[2] = re.sub(tag_pattern, '', row[2])\n",
        "        row[2] = re.sub(\"&nbsp;\", '', row[2])\n",
        "        row[2] = re.sub(\"---&gt;\", '', row[2])\n",
        "        row[2] = re.sub(over_space, ' ', row[2]).strip()\n",
        "    return df"
      ]
    },
    {
      "cell_type": "code",
      "execution_count": null,
      "metadata": {
        "id": "MM6226qtTxvs"
      },
      "outputs": [],
      "source": [
        "rekmed_xl = remove_html_tag(rekmed_xl)"
      ]
    },
    {
      "cell_type": "code",
      "execution_count": null,
      "metadata": {
        "id": "xg4SBLV_ymoS"
      },
      "outputs": [],
      "source": [
        "rekmed_xl.to_excel(\"rekmed_post_preprocessing.xlsx\", index=False)"
      ]
    }
  ],
  "metadata": {
    "colab": {
      "collapsed_sections": [],
      "machine_shape": "hm",
      "provenance": []
    },
    "gpuClass": "premium",
    "kernelspec": {
      "display_name": "Python 3.8.13 ('rekmed')",
      "language": "python",
      "name": "python3"
    },
    "language_info": {
      "codemirror_mode": {
        "name": "ipython",
        "version": 3
      },
      "file_extension": ".py",
      "mimetype": "text/x-python",
      "name": "python",
      "nbconvert_exporter": "python",
      "pygments_lexer": "ipython3",
      "version": "3.8.13"
    },
    "vscode": {
      "interpreter": {
        "hash": "e07601bb39c63278b6022ec38fd7af7e0a29f4a47d2059fa2be0c3cf926029a1"
      }
    }
  },
  "nbformat": 4,
  "nbformat_minor": 0
}
