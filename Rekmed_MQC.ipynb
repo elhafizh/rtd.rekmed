{
  "cells": [
    {
      "cell_type": "code",
      "execution_count": null,
      "metadata": {
        "id": "DY1RgbeMyE0q"
      },
      "outputs": [],
      "source": [
        "import pandas as pd\n",
        "from utils import tool, inverted_index"
      ]
    },
    {
      "cell_type": "code",
      "execution_count": null,
      "metadata": {},
      "outputs": [],
      "source": [
        "%load_ext autoreload\n",
        "%autoreload 2"
      ]
    },
    {
      "cell_type": "markdown",
      "metadata": {},
      "source": [
        "## Load Dataset"
      ]
    },
    {
      "cell_type": "code",
      "execution_count": null,
      "metadata": {
        "id": "yrN2JFh9TD8Q"
      },
      "outputs": [],
      "source": [
        "file_path = \"static/data SOAP indo.xlsx\"\n",
        "rekmed_xl = pd.read_excel(file_path)"
      ]
    },
    {
      "cell_type": "code",
      "execution_count": null,
      "metadata": {
        "colab": {
          "base_uri": "https://localhost:8080/"
        },
        "collapsed": true,
        "id": "6FcMNfr57P8B",
        "outputId": "31d1648d-f9c4-4876-ec9d-cb7451d1870f"
      },
      "outputs": [],
      "source": [
        "rekmed_xl.isnull().sum()"
      ]
    },
    {
      "cell_type": "markdown",
      "metadata": {
        "id": "eSgN_vVnAL4m"
      },
      "source": [
        "## Preprocessing"
      ]
    },
    {
      "cell_type": "code",
      "execution_count": null,
      "metadata": {
        "id": "MM6226qtTxvs"
      },
      "outputs": [],
      "source": [
        "rekmed_xl = tool.drop_unnecessary_samples(rekmed_xl)\n",
        "rekmed_xl = tool.remove_html_tag(rekmed_xl)"
      ]
    },
    {
      "cell_type": "code",
      "execution_count": null,
      "metadata": {},
      "outputs": [],
      "source": [
        "rekmed_xl.isnull().sum()"
      ]
    },
    {
      "cell_type": "code",
      "execution_count": null,
      "metadata": {},
      "outputs": [],
      "source": [
        "# save preprocessing data\n",
        "tool.save_py_obj(\"rekmed_post_preprocess.pkl\", rekmed_xl)"
      ]
    },
    {
      "cell_type": "code",
      "execution_count": null,
      "metadata": {},
      "outputs": [],
      "source": [
        "# load previous clean data\n",
        "rekmed_xl_pkl = tool.load_py_obj(\"rekmed_post_preprocess.pkl\")"
      ]
    },
    {
      "cell_type": "markdown",
      "metadata": {},
      "source": [
        "## Build Inverted Index\n",
        "\n",
        "- experiment on 40 sample : tokenization and remove_alphanum_char resulting the same tokens\n",
        "- sample_rekmed[23] after tokenization resulting only `mg` information\n",
        "    - need to delete `mg`\n",
        "- Eliminate long diagnostics. Assumed as an incomplete diagnosis. Examples:\n",
        "    - `konsultasi IA, turunkan BB. Suami : pernah minum CC ?, post op varicocele bulan juni ke permata hati`\n",
        "    - `riwayat obstetri jelek, curiga cervik incompetens rujuk dr Diah R, SpOGK`"
      ]
    },
    {
      "cell_type": "code",
      "execution_count": null,
      "metadata": {},
      "outputs": [],
      "source": [
        "sample_rekmed = rekmed_xl_pkl[1:70]\n",
        "# sample_rekmed"
      ]
    },
    {
      "cell_type": "code",
      "execution_count": null,
      "metadata": {},
      "outputs": [],
      "source": [
        "# len(sample_rekmed.iloc[29].diagnosa)\n",
        "# sample_rekmed.iloc[29].diagnosa\n",
        "# sample_rekmed.iloc[48].diagnosa\n",
        "# sample_rekmed.iloc[48].diagnosa.split()\n",
        "# len(sample_rekmed.iloc[48].diagnosa.split())\n",
        "# sample_rekmed"
      ]
    },
    {
      "cell_type": "code",
      "execution_count": null,
      "metadata": {},
      "outputs": [],
      "source": [
        "rekmed_l_tokens = inverted_index.tokenization(sample_rekmed.diagnosa)\n",
        "sample_rekmed, rekmed_l_tokens = tool.drop_meaningless_tokens(sample_rekmed, rekmed_l_tokens)"
      ]
    },
    {
      "cell_type": "code",
      "execution_count": null,
      "metadata": {},
      "outputs": [],
      "source": [
        "rekmed_tokens_docId = inverted_index.pair_token_docID(rekmed_l_tokens)\n",
        "rekmed_tokens_docId = inverted_index.remove_space(rekmed_tokens_docId)\n",
        "rekmed_tokens_docId = inverted_index.sort_token_docID(rekmed_tokens_docId)"
      ]
    },
    {
      "cell_type": "code",
      "execution_count": null,
      "metadata": {},
      "outputs": [],
      "source": [
        "rekmed_inverted_index = inverted_index.inverted_index(rekmed_tokens_docId)"
      ]
    }
  ],
  "metadata": {
    "colab": {
      "collapsed_sections": [],
      "machine_shape": "hm",
      "provenance": []
    },
    "gpuClass": "premium",
    "kernelspec": {
      "display_name": "Python 3.9.15 ('rtd')",
      "language": "python",
      "name": "python3"
    },
    "language_info": {
      "codemirror_mode": {
        "name": "ipython",
        "version": 3
      },
      "file_extension": ".py",
      "mimetype": "text/x-python",
      "name": "python",
      "nbconvert_exporter": "python",
      "pygments_lexer": "ipython3",
      "version": "3.9.15"
    },
    "vscode": {
      "interpreter": {
        "hash": "ef4240692cb61936a58fb2b971638f546486426c4f89e3bd13458fff4e6e0abb"
      }
    }
  },
  "nbformat": 4,
  "nbformat_minor": 0
}
