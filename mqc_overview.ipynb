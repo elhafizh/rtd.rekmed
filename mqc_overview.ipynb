{
 "cells": [
  {
   "cell_type": "code",
   "execution_count": 1,
   "metadata": {},
   "outputs": [
    {
     "name": "stderr",
     "output_type": "stream",
     "text": [
      "/home/fizh/miniconda3/envs/rtd/lib/python3.9/site-packages/tqdm/auto.py:22: TqdmWarning: IProgress not found. Please update jupyter and ipywidgets. See https://ipywidgets.readthedocs.io/en/stable/user_install.html\n",
      "  from .autonotebook import tqdm as notebook_tqdm\n"
     ]
    }
   ],
   "source": [
    "import pandas as pd\n",
    "from utils import tool, indexing\n",
    "import numpy as np"
   ]
  },
  {
   "cell_type": "code",
   "execution_count": 2,
   "metadata": {},
   "outputs": [],
   "source": [
    "%load_ext autoreload\n",
    "%autoreload 2"
   ]
  },
  {
   "attachments": {},
   "cell_type": "markdown",
   "metadata": {},
   "source": [
    "## Important Variables"
   ]
  },
  {
   "cell_type": "code",
   "execution_count": 4,
   "metadata": {},
   "outputs": [
    {
     "data": {
      "text/html": [
       "<div>\n",
       "<style scoped>\n",
       "    .dataframe tbody tr th:only-of-type {\n",
       "        vertical-align: middle;\n",
       "    }\n",
       "\n",
       "    .dataframe tbody tr th {\n",
       "        vertical-align: top;\n",
       "    }\n",
       "\n",
       "    .dataframe thead th {\n",
       "        text-align: right;\n",
       "    }\n",
       "</style>\n",
       "<table border=\"1\" class=\"dataframe\">\n",
       "  <thead>\n",
       "    <tr style=\"text-align: right;\">\n",
       "      <th></th>\n",
       "      <th>tindakan</th>\n",
       "      <th>terapi</th>\n",
       "      <th>diagnosa</th>\n",
       "    </tr>\n",
       "  </thead>\n",
       "  <tbody>\n",
       "    <tr>\n",
       "      <th>9221</th>\n",
       "      <td>NaN</td>\n",
       "      <td>praxion forte syr 1 S prn 4 ml lacto b X S 3 d...</td>\n",
       "      <td>obser muntah</td>\n",
       "    </tr>\n",
       "    <tr>\n",
       "      <th>7402</th>\n",
       "      <td>NaN</td>\n",
       "      <td>R/ OMEPRAZOL NO V S 1 DED 1 ------------------...</td>\n",
       "      <td>FARINGITIS ALERGI GERD</td>\n",
       "    </tr>\n",
       "    <tr>\n",
       "      <th>29254</th>\n",
       "      <td>NaN</td>\n",
       "      <td>sanmol drop 1 s prn 0,6</td>\n",
       "      <td>Pentavalent IPV</td>\n",
       "    </tr>\n",
       "    <tr>\n",
       "      <th>12728</th>\n",
       "      <td>NaN</td>\n",
       "      <td>clopidogrel xxx s1dd1 simvatatin 10mg xxx s1dd...</td>\n",
       "      <td>snd hiperkolkesterol oa</td>\n",
       "    </tr>\n",
       "    <tr>\n",
       "      <th>110515</th>\n",
       "      <td>Echokardiografi : Disfungsi diastolik. Normoki...</td>\n",
       "      <td>ramipril 5 mg no XXX S 1 dd tab 1 concor 2,5 m...</td>\n",
       "      <td>HT</td>\n",
       "    </tr>\n",
       "  </tbody>\n",
       "</table>\n",
       "</div>"
      ],
      "text/plain": [
       "                                                 tindakan  \\\n",
       "9221                                                  NaN   \n",
       "7402                                                  NaN   \n",
       "29254                                                 NaN   \n",
       "12728                                                 NaN   \n",
       "110515  Echokardiografi : Disfungsi diastolik. Normoki...   \n",
       "\n",
       "                                                   terapi  \\\n",
       "9221    praxion forte syr 1 S prn 4 ml lacto b X S 3 d...   \n",
       "7402    R/ OMEPRAZOL NO V S 1 DED 1 ------------------...   \n",
       "29254                             sanmol drop 1 s prn 0,6   \n",
       "12728   clopidogrel xxx s1dd1 simvatatin 10mg xxx s1dd...   \n",
       "110515  ramipril 5 mg no XXX S 1 dd tab 1 concor 2,5 m...   \n",
       "\n",
       "                       diagnosa  \n",
       "9221               obser muntah  \n",
       "7402     FARINGITIS ALERGI GERD  \n",
       "29254           Pentavalent IPV  \n",
       "12728   snd hiperkolkesterol oa  \n",
       "110515                       HT  "
      ]
     },
     "execution_count": 4,
     "metadata": {},
     "output_type": "execute_result"
    }
   ],
   "source": [
    "rekmed_xl_pkl = tool.load_py_obj(\"rekmed_post_preprocess.pkl\")\n",
    "rekmed_xl_pkl.sample(n=5)"
   ]
  },
  {
   "cell_type": "code",
   "execution_count": 5,
   "metadata": {},
   "outputs": [
    {
     "data": {
      "text/html": [
       "<div>\n",
       "<style scoped>\n",
       "    .dataframe tbody tr th:only-of-type {\n",
       "        vertical-align: middle;\n",
       "    }\n",
       "\n",
       "    .dataframe tbody tr th {\n",
       "        vertical-align: top;\n",
       "    }\n",
       "\n",
       "    .dataframe thead th {\n",
       "        text-align: right;\n",
       "    }\n",
       "</style>\n",
       "<table border=\"1\" class=\"dataframe\">\n",
       "  <thead>\n",
       "    <tr style=\"text-align: right;\">\n",
       "      <th></th>\n",
       "      <th>group</th>\n",
       "      <th>question</th>\n",
       "      <th>answer</th>\n",
       "    </tr>\n",
       "  </thead>\n",
       "  <tbody>\n",
       "    <tr>\n",
       "      <th>448</th>\n",
       "      <td>gbph</td>\n",
       "      <td>bagaimana tindakan yg dilakukan untuk menangan...</td>\n",
       "      <td>urinalisis</td>\n",
       "    </tr>\n",
       "    <tr>\n",
       "      <th>552</th>\n",
       "      <td>g33mg</td>\n",
       "      <td>bagaimana 33mg/32mg dapat diobati?</td>\n",
       "      <td>osfit DHA no 15 s1dd1 Pregnacare atau pregnaca...</td>\n",
       "    </tr>\n",
       "    <tr>\n",
       "      <th>316</th>\n",
       "      <td>gtine</td>\n",
       "      <td>terapi apa yg disarankan untuk penderita Tinea...</td>\n",
       "      <td>R/ Termisil gr 10 Mofacort gr 10 Noroid lot ml...</td>\n",
       "    </tr>\n",
       "    <tr>\n",
       "      <th>239</th>\n",
       "      <td>ghami</td>\n",
       "      <td>terapi apa yang diperlukan untuk penyakit hami...</td>\n",
       "      <td>pregnacare plus no 20 S1dd1 Tomit no 10 S2dd1 prn</td>\n",
       "    </tr>\n",
       "    <tr>\n",
       "      <th>401</th>\n",
       "      <td>gnon</td>\n",
       "      <td>tindakan apa yang tepat untuk menangani penyak...</td>\n",
       "      <td>composit lc</td>\n",
       "    </tr>\n",
       "  </tbody>\n",
       "</table>\n",
       "</div>"
      ],
      "text/plain": [
       "     group                                           question  \\\n",
       "448   gbph  bagaimana tindakan yg dilakukan untuk menangan...   \n",
       "552  g33mg                 bagaimana 33mg/32mg dapat diobati?   \n",
       "316  gtine  terapi apa yg disarankan untuk penderita Tinea...   \n",
       "239  ghami  terapi apa yang diperlukan untuk penyakit hami...   \n",
       "401   gnon  tindakan apa yang tepat untuk menangani penyak...   \n",
       "\n",
       "                                                answer  \n",
       "448                                         urinalisis  \n",
       "552  osfit DHA no 15 s1dd1 Pregnacare atau pregnaca...  \n",
       "316  R/ Termisil gr 10 Mofacort gr 10 Noroid lot ml...  \n",
       "239  pregnacare plus no 20 S1dd1 Tomit no 10 S2dd1 prn  \n",
       "401                                        composit lc  "
      ]
     },
     "execution_count": 5,
     "metadata": {},
     "output_type": "execute_result"
    }
   ],
   "source": [
    "# Data Training\n",
    "QA = tool.load_py_obj(\"QA_grouping_qa.pkl\")\n",
    "QA.sample(n=5)"
   ]
  },
  {
   "cell_type": "code",
   "execution_count": 6,
   "metadata": {},
   "outputs": [
    {
     "data": {
      "text/html": [
       "<div>\n",
       "<style scoped>\n",
       "    .dataframe tbody tr th:only-of-type {\n",
       "        vertical-align: middle;\n",
       "    }\n",
       "\n",
       "    .dataframe tbody tr th {\n",
       "        vertical-align: top;\n",
       "    }\n",
       "\n",
       "    .dataframe thead th {\n",
       "        text-align: right;\n",
       "    }\n",
       "</style>\n",
       "<table border=\"1\" class=\"dataframe\">\n",
       "  <thead>\n",
       "    <tr style=\"text-align: right;\">\n",
       "      <th></th>\n",
       "      <th>group</th>\n",
       "      <th>question</th>\n",
       "      <th>answer</th>\n",
       "    </tr>\n",
       "  </thead>\n",
       "  <tbody>\n",
       "    <tr>\n",
       "      <th>34</th>\n",
       "      <td>gcalc</td>\n",
       "      <td>penanganan yang direkomendasikan untuk calculu...</td>\n",
       "      <td>scaling ra rb USG uterus dbn dengan ovarium ga...</td>\n",
       "    </tr>\n",
       "    <tr>\n",
       "      <th>44</th>\n",
       "      <td>gpasa</td>\n",
       "      <td>terapi untuk pasang IUD adalah</td>\n",
       "      <td>amoksisilin 3x500 mg 15 S3dd1</td>\n",
       "    </tr>\n",
       "    <tr>\n",
       "      <th>21</th>\n",
       "      <td>gte</td>\n",
       "      <td>terapi untuk TE adalah</td>\n",
       "      <td>Levofloxacin 500mg tab V s 1x1 Metilprednisolo...</td>\n",
       "    </tr>\n",
       "    <tr>\n",
       "      <th>61</th>\n",
       "      <td>gdka</td>\n",
       "      <td>terapi untuk DKA adalah</td>\n",
       "      <td>R/ Metylprednisolon 8 mg tab no XXS 1-0-0 R/ L...</td>\n",
       "    </tr>\n",
       "    <tr>\n",
       "      <th>49</th>\n",
       "      <td>ghami</td>\n",
       "      <td>terapi untuk hamil 32-33 mg adalah</td>\n",
       "      <td>pregnacare plus no 30 S1dd1 prolacta DHA no 15...</td>\n",
       "    </tr>\n",
       "  </tbody>\n",
       "</table>\n",
       "</div>"
      ],
      "text/plain": [
       "    group                                           question  \\\n",
       "34  gcalc  penanganan yang direkomendasikan untuk calculu...   \n",
       "44  gpasa                     terapi untuk pasang IUD adalah   \n",
       "21    gte                             terapi untuk TE adalah   \n",
       "61   gdka                            terapi untuk DKA adalah   \n",
       "49  ghami                 terapi untuk hamil 32-33 mg adalah   \n",
       "\n",
       "                                               answer  \n",
       "34  scaling ra rb USG uterus dbn dengan ovarium ga...  \n",
       "44                      amoksisilin 3x500 mg 15 S3dd1  \n",
       "21  Levofloxacin 500mg tab V s 1x1 Metilprednisolo...  \n",
       "61  R/ Metylprednisolon 8 mg tab no XXS 1-0-0 R/ L...  \n",
       "49  pregnacare plus no 30 S1dd1 prolacta DHA no 15...  "
      ]
     },
     "execution_count": 6,
     "metadata": {},
     "output_type": "execute_result"
    }
   ],
   "source": [
    "# Data Testing\n",
    "QA_test = tool.load_py_obj(\"QA_grouping_qa_test.pkl\")\n",
    "QA_test.sample(n=5)"
   ]
  },
  {
   "cell_type": "code",
   "execution_count": 7,
   "metadata": {},
   "outputs": [
    {
     "data": {
      "text/html": [
       "<div>\n",
       "<style scoped>\n",
       "    .dataframe tbody tr th:only-of-type {\n",
       "        vertical-align: middle;\n",
       "    }\n",
       "\n",
       "    .dataframe tbody tr th {\n",
       "        vertical-align: top;\n",
       "    }\n",
       "\n",
       "    .dataframe thead th {\n",
       "        text-align: right;\n",
       "    }\n",
       "</style>\n",
       "<table border=\"1\" class=\"dataframe\">\n",
       "  <thead>\n",
       "    <tr style=\"text-align: right;\">\n",
       "      <th></th>\n",
       "      <th>question1</th>\n",
       "      <th>question2</th>\n",
       "      <th>label</th>\n",
       "    </tr>\n",
       "  </thead>\n",
       "  <tbody>\n",
       "    <tr>\n",
       "      <th>1248</th>\n",
       "      <td>apa tindakan yang dilakukan pada penyakit Erup...</td>\n",
       "      <td>Erupsi Akneiformis 26 NEKROSIS dapat diobati d...</td>\n",
       "      <td>0.4</td>\n",
       "    </tr>\n",
       "    <tr>\n",
       "      <th>2134</th>\n",
       "      <td>terapi apa yg disarankan untuk penderita febri...</td>\n",
       "      <td>calculus dapat ditangani dengan ...</td>\n",
       "      <td>0.0</td>\n",
       "    </tr>\n",
       "    <tr>\n",
       "      <th>189</th>\n",
       "      <td>apa tindakan yang dilakukan pada penyakit kont...</td>\n",
       "      <td>tindakan apa yang tepat untuk menangani penyak...</td>\n",
       "      <td>0.8</td>\n",
       "    </tr>\n",
       "    <tr>\n",
       "      <th>427</th>\n",
       "      <td>apa terapi yang tepat untuk penyakit Tinea Ped...</td>\n",
       "      <td>Tinea Pedis DKA dapat diobati dengan ...</td>\n",
       "      <td>0.8</td>\n",
       "    </tr>\n",
       "    <tr>\n",
       "      <th>305</th>\n",
       "      <td>apa terapi yang tepat untuk penyakit hamil 11 mg?</td>\n",
       "      <td>terapi apa yg disarankan untuk penderita hamil...</td>\n",
       "      <td>0.8</td>\n",
       "    </tr>\n",
       "  </tbody>\n",
       "</table>\n",
       "</div>"
      ],
      "text/plain": [
       "                                              question1  \\\n",
       "1248  apa tindakan yang dilakukan pada penyakit Erup...   \n",
       "2134  terapi apa yg disarankan untuk penderita febri...   \n",
       "189   apa tindakan yang dilakukan pada penyakit kont...   \n",
       "427   apa terapi yang tepat untuk penyakit Tinea Ped...   \n",
       "305   apa terapi yang tepat untuk penyakit hamil 11 mg?   \n",
       "\n",
       "                                              question2  label  \n",
       "1248  Erupsi Akneiformis 26 NEKROSIS dapat diobati d...    0.4  \n",
       "2134                calculus dapat ditangani dengan ...    0.0  \n",
       "189   tindakan apa yang tepat untuk menangani penyak...    0.8  \n",
       "427            Tinea Pedis DKA dapat diobati dengan ...    0.8  \n",
       "305   terapi apa yg disarankan untuk penderita hamil...    0.8  "
      ]
     },
     "execution_count": 7,
     "metadata": {},
     "output_type": "execute_result"
    }
   ],
   "source": [
    "# Input Dataset for BERT\n",
    "train_examples = tool.load_py_obj(\"train_examples.pkl\")\n",
    "train_examples.sample(n=5)"
   ]
  },
  {
   "attachments": {},
   "cell_type": "markdown",
   "metadata": {},
   "source": [
    "## Ask a Question"
   ]
  },
  {
   "cell_type": "code",
   "execution_count": 10,
   "metadata": {},
   "outputs": [],
   "source": [
    "embeddings_dataset = tool.load_py_obj(\"embeddings_dataset_question_eval.pkl\")\n",
    "# question = \"Dermatitis Atopik dapat diobati dengan\"\n",
    "question = \"terapi untuk penyakit Impetigo Bulosa\"\n",
    "model_ckpt = \"static/output/models/microsoft/mpnet-base-2022-11-30_00-24-04-mean-sts\""
   ]
  },
  {
   "cell_type": "code",
   "execution_count": 11,
   "metadata": {},
   "outputs": [
    {
     "name": "stderr",
     "output_type": "stream",
     "text": [
      "Asking to truncate to max_length but no maximum length is provided and the model has no predefined maximum length. Default to no truncation.\n"
     ]
    },
    {
     "name": "stdout",
     "output_type": "stream",
     "text": [
      "Question : bagaimana Impetigo Bulosa dapat diobati?\n",
      "Answer : R/ Sporetic syr fl I S 2 dd 40 mg R/ Bactoderm gr 10 Mediklin gr 10 mfla da inpot I S 2 dd ue\n",
      "SCORE: 6.04553747177124\n",
      "==================================================\n",
      "\n",
      "Question : apa terapi yang tepat untuk penyakit Impetigo Bulosa?\n",
      "Answer : R/ Sporetic syr fl I S 2 dd 40 mg R/ Bactoderm gr 10 Mediklin gr 10 mfla da inpot I S 2 dd ue\n",
      "SCORE: 4.567631244659424\n",
      "==================================================\n",
      "\n",
      "Question : terapi apa yg disarankan untuk penderita Impetigo Bulosa?\n",
      "Answer : R/ Sporetic syr fl I S 2 dd 40 mg R/ Bactoderm gr 10 Mediklin gr 10 mfla da inpot I S 2 dd ue\n",
      "SCORE: 3.652449369430542\n",
      "==================================================\n",
      "\n",
      "Question : terapi apa yang diperlukan untuk penyakit Impetigo Bulosa?\n",
      "Answer : R/ Sporetic syr fl I S 2 dd 40 mg R/ Bactoderm gr 10 Mediklin gr 10 mfla da inpot I S 2 dd ue\n",
      "SCORE: 2.1214425563812256\n",
      "==================================================\n",
      "\n"
     ]
    }
   ],
   "source": [
    "tool.ask_a_question(question, model_ckpt, embeddings_dataset)"
   ]
  }
 ],
 "metadata": {
  "kernelspec": {
   "display_name": "rtd",
   "language": "python",
   "name": "python3"
  },
  "language_info": {
   "codemirror_mode": {
    "name": "ipython",
    "version": 3
   },
   "file_extension": ".py",
   "mimetype": "text/x-python",
   "name": "python",
   "nbconvert_exporter": "python",
   "pygments_lexer": "ipython3",
   "version": "3.9.15"
  },
  "orig_nbformat": 4,
  "vscode": {
   "interpreter": {
    "hash": "ef4240692cb61936a58fb2b971638f546486426c4f89e3bd13458fff4e6e0abb"
   }
  }
 },
 "nbformat": 4,
 "nbformat_minor": 2
}
